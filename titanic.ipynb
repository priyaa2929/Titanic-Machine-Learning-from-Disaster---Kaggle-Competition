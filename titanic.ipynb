{
 "cells": [
  {
   "cell_type": "markdown",
   "metadata": {
    "ExecuteTime": {
     "end_time": "2018-06-17T04:04:45.569723Z",
     "start_time": "2018-06-17T04:04:45.566984Z"
    }
   },
   "source": [
    "# Introduction"
   ]
  },
  {
   "cell_type": "markdown",
   "metadata": {},
   "source": [
    "This notebook is the one I used as part of the [Titanic: Machine Learning from Disaster, Kaggle Competition](https://www.kaggle.com/c/titanic). <br>\n",
    "In this competition, the <b>goal</b> is to perform a 2-label <b>classification problem</b>: predict which <b>passengers survived</b> the tragedy. <br> [Kaggle](https://www.kaggle.com) offers two datasets. One training (the labels are known) and one testing (the labels are unknown)  for which we can submit a file with our predicted labels. <br>\n",
    "We have access to a bunch of 9 features (numerical, text, categorical). The <b>big challenge</b> with this competition is the size of the data we have. The <b>training set</b> is composed of only <b>891 samples</b>. The testing set is composed of 418 samples. <br>Therefore, the main issue is to design an algorithm which generalize enough in order to avoid <b>over-fitting</b>. To do so, a bunch of generalized enough features is generated. Then, an ensemble modeling method with voting is used in order to get the most generalized model.<br><br>\n",
    "The framework of this notebook is:\n",
    "- Preliminary Work:\n",
    "    - Exploration\n",
    "    - NaN values\n",
    "    - Exploration\n",
    "- Analysis of the features\n",
    "    - Categorical and Integer Numerical\n",
    "    - Numerical\n",
    "- Feature Engineering\n",
    "- Modeling\n",
    "    - Simple Models & Selection\n",
    "    - Hyper-Parameters Optimization \n",
    "    - Ensemble Modeling\n",
    "- Submission"
   ]
  },
  {
   "cell_type": "code",
   "execution_count": 84,
   "metadata": {
    "ExecuteTime": {
     "end_time": "2018-06-26T00:04:13.040548Z",
     "start_time": "2018-06-26T00:04:12.947569Z"
    }
   },
   "outputs": [],
   "source": [
    "# Imports\n",
    "\n",
    "import numpy as np\n",
    "import pandas as pd\n",
    "import seaborn as sns \n",
    "\n",
    "import matplotlib.pyplot as plt\n",
    "\n",
    "%matplotlib inline\n",
    "\n",
    "\n",
    "from pandas import DataFrame\n",
    "from scipy.stats import boxcox\n",
    "from matplotlib import pyplot\n",
    "\n",
    "\n",
    "from sklearn.ensemble import RandomForestClassifier, AdaBoostClassifier, GradientBoostingClassifier, ExtraTreesClassifier, VotingClassifier\n",
    "from sklearn.tree import DecisionTreeClassifier\n",
    "\n",
    "from sklearn.model_selection import GridSearchCV, cross_val_score, StratifiedKFold, learning_curve\n",
    "\n",
    "from xgboost import XGBClassifier\n",
    "\n",
    "\n",
    "\n",
    "\n",
    "from sklearn.metrics import log_loss, accuracy_score\n",
    "from sklearn.metrics import classification_report\n",
    "from sklearn.metrics import confusion_matrix\n",
    "\n",
    "\n",
    "\n",
    "\n",
    "from sklearn.preprocessing import Imputer\n",
    "from sklearn.ensemble import RandomForestClassifier\n",
    "from sklearn.model_selection import cross_val_predict\n",
    "from sklearn.preprocessing import LabelEncoder\n",
    "from sklearn.neighbors import KNeighborsClassifier\n",
    "\n",
    "\n",
    "\n",
    "from sklearn.linear_model import LogisticRegression\n",
    "from sklearn.naive_bayes import GaussianNB\n",
    "from sklearn.ensemble import RandomForestClassifier\n",
    "\n",
    "from sklearn.svm import SVC\n",
    "\n",
    "from sklearn.metrics import log_loss, fbeta_score, make_scorer, confusion_matrix, roc_curve\n",
    "from sklearn.calibration import CalibratedClassifierCV\n",
    "\n",
    "\n",
    "from tqdm import tqdm\n",
    "\n",
    "\n",
    "from sklearn.cluster import KMeans\n",
    "\n",
    "import warnings\n",
    "warnings.filterwarnings(\"ignore\")"
   ]
  },
  {
   "cell_type": "markdown",
   "metadata": {
    "ExecuteTime": {
     "end_time": "2018-06-17T04:05:36.994614Z",
     "start_time": "2018-06-17T04:05:36.991220Z"
    }
   },
   "source": [
    "# Preliminary work"
   ]
  },
  {
   "cell_type": "markdown",
   "metadata": {},
   "source": [
    "In this part, I do some explorations and understanding of the data."
   ]
  },
  {
   "cell_type": "markdown",
   "metadata": {},
   "source": [
    "## General exploration"
   ]
  },
  {
   "cell_type": "code",
   "execution_count": 85,
   "metadata": {
    "ExecuteTime": {
     "end_time": "2018-06-26T00:04:13.058390Z",
     "start_time": "2018-06-26T00:04:13.043287Z"
    }
   },
   "outputs": [],
   "source": [
    "#dataframe provided by Kaggle - the one with the labels\n",
    "df = pd.read_csv('./data/'+ 'train.csv')\n",
    "#dataframe provided by Kaggle - the one without the labels -> we have to predict the labels\n",
    "df_test = pd.read_csv('./data/'+ 'test.csv')"
   ]
  },
  {
   "cell_type": "code",
   "execution_count": 236,
   "metadata": {
    "ExecuteTime": {
     "end_time": "2018-07-04T00:02:29.578142Z",
     "start_time": "2018-07-04T00:02:29.558293Z"
    }
   },
   "outputs": [
    {
     "name": "stdout",
     "output_type": "stream",
     "text": [
      "Index(['Survived', 'Pclass', 'Age', 'Fare', 'cat_male', 'cat_Q', 'cat_S',\n",
      "       'cat_Miss', 'cat_Mr', 'cat_Mrs', 'cat_Other', 'cat_big', 'cat_small',\n",
      "       'cat_Prefix_1', 'cat_Prefix_2', 'cat_Cab_1', 'cat_Cab_2'],\n",
      "      dtype='object')\n",
      "Index(['Pclass', 'Age', 'Fare', 'cat_male', 'cat_Q', 'cat_S', 'cat_Miss',\n",
      "       'cat_Mr', 'cat_Mrs', 'cat_Other', 'cat_big', 'cat_small',\n",
      "       'cat_Prefix_1', 'cat_Prefix_2', 'cat_Cab_1', 'cat_Cab_2'],\n",
      "      dtype='object')\n",
      "number of features 16\n"
     ]
    }
   ],
   "source": [
    "print(df.columns)\n",
    "print(df_test.columns)\n",
    "print('number of features', len(df_test.columns))"
   ]
  },
  {
   "cell_type": "markdown",
   "metadata": {},
   "source": [
    "The column 'Survived' is the label. This is the variable to predict. <br>\n",
    "This column is present in the training dataset but not in the testing: for sure it's the one we need to predict!"
   ]
  },
  {
   "cell_type": "code",
   "execution_count": 87,
   "metadata": {
    "ExecuteTime": {
     "end_time": "2018-06-26T00:04:13.074292Z",
     "start_time": "2018-06-26T00:04:13.069479Z"
    },
    "scrolled": true
   },
   "outputs": [
    {
     "name": "stdout",
     "output_type": "stream",
     "text": [
      "891 records for the training dataset.\n",
      "418 records for the testing dataset. \n"
     ]
    }
   ],
   "source": [
    "print(len(df), 'records for the training dataset.')\n",
    "print(len(df_test), 'records for the testing dataset. ')"
   ]
  },
  {
   "cell_type": "code",
   "execution_count": 88,
   "metadata": {
    "ExecuteTime": {
     "end_time": "2018-06-26T00:04:13.084328Z",
     "start_time": "2018-06-26T00:04:13.077017Z"
    }
   },
   "outputs": [
    {
     "name": "stdout",
     "output_type": "stream",
     "text": [
      "342 people survived.\n",
      "549 people did not survive.\n"
     ]
    }
   ],
   "source": [
    "survivors = df.Survived.sum()\n",
    "unsurvivors = len(df) - survivors\n",
    "\n",
    "print( survivors, 'people survived.')\n",
    "print( unsurvivors, 'people did not survive.')"
   ]
  },
  {
   "cell_type": "code",
   "execution_count": 89,
   "metadata": {
    "ExecuteTime": {
     "end_time": "2018-06-26T00:04:13.225185Z",
     "start_time": "2018-06-26T00:04:13.086921Z"
    }
   },
   "outputs": [
    {
     "data": {
      "image/png": "[encoded data removed]",
      "text/plain": [
       "<matplotlib.figure.Figure at 0x10dd7e240>"
      ]
     },
     "metadata": {},
     "output_type": "display_data"
    }
   ],
   "source": [
    "plt.hist(df.Survived)\n",
    "plt.title('Survived? ')\n",
    "plt.xticks(np.arange(2), ('No', 'Yes'))\n",
    "plt.show()"
   ]
  },
  {
   "cell_type": "markdown",
   "metadata": {},
   "source": [
    "## NaN values"
   ]
  },
  {
   "cell_type": "code",
   "execution_count": 90,
   "metadata": {
    "ExecuteTime": {
     "end_time": "2018-06-26T00:04:13.238422Z",
     "start_time": "2018-06-26T00:04:13.227439Z"
    }
   },
   "outputs": [
    {
     "name": "stdout",
     "output_type": "stream",
     "text": [
      "PassengerId      0\n",
      "Survived         0\n",
      "Pclass           0\n",
      "Name             0\n",
      "Sex              0\n",
      "Age            177\n",
      "SibSp            0\n",
      "Parch            0\n",
      "Ticket           0\n",
      "Fare             0\n",
      "Cabin          687\n",
      "Embarked         2\n",
      "dtype: int64\n",
      "-----------\n",
      "-----------\n",
      "PassengerId      0\n",
      "Pclass           0\n",
      "Name             0\n",
      "Sex              0\n",
      "Age             86\n",
      "SibSp            0\n",
      "Parch            0\n",
      "Ticket           0\n",
      "Fare             1\n",
      "Cabin          327\n",
      "Embarked         0\n",
      "dtype: int64\n"
     ]
    }
   ],
   "source": [
    "print(df.isnull().sum())\n",
    "print('-----------')\n",
    "print('-----------')\n",
    "print(df_test.isnull().sum())"
   ]
  },
  {
   "cell_type": "markdown",
   "metadata": {},
   "source": [
    "From the records, we can see that 4 features have missing values:\n",
    "- Age: Age is fractional if less than 1. If the age is estimated, is it in the form of xx.5 -> Numerical Variable\n",
    "- Cabin: Cabin number -> Categorical variable\n",
    "- Embarked: Port of Embarkation (3 categories)  -> Categorical variable\n",
    "- Fare: Numerical: Only 1 missing in the test dataset. Can be replace by the mean in the training set. "
   ]
  },
  {
   "cell_type": "markdown",
   "metadata": {},
   "source": [
    "### Embarked"
   ]
  },
  {
   "cell_type": "markdown",
   "metadata": {},
   "source": [
    "'Embarked' is only missing 2 data among all the training set and no-one in the test set. Because of its categorical nature, we would have create a new 'missing_value' category. However, here, we'll just replace the missing by the majority category."
   ]
  },
  {
   "cell_type": "markdown",
   "metadata": {},
   "source": [
    "### Cabin"
   ]
  },
  {
   "cell_type": "code",
   "execution_count": 91,
   "metadata": {
    "ExecuteTime": {
     "end_time": "2018-06-26T00:04:13.246665Z",
     "start_time": "2018-06-26T00:04:13.240929Z"
    }
   },
   "outputs": [
    {
     "name": "stdout",
     "output_type": "stream",
     "text": [
      "0.7710437710437711\n"
     ]
    }
   ],
   "source": [
    "print(df.Cabin.isnull().sum() / len(df))"
   ]
  },
  {
   "cell_type": "markdown",
   "metadata": {},
   "source": [
    "Almost 80% of the Cabin data is missing. That probably means only 20% of the passengers had a cabin. This feature should be dropped. However, let's explore later if the feature brings some informations."
   ]
  },
  {
   "cell_type": "markdown",
   "metadata": {},
   "source": [
    "### Age"
   ]
  },
  {
   "cell_type": "code",
   "execution_count": 92,
   "metadata": {
    "ExecuteTime": {
     "end_time": "2018-06-26T00:04:13.254548Z",
     "start_time": "2018-06-26T00:04:13.249352Z"
    }
   },
   "outputs": [
    {
     "name": "stdout",
     "output_type": "stream",
     "text": [
      "0.19865319865319866\n"
     ]
    }
   ],
   "source": [
    "print(df.Age.isnull().sum() / len(df))"
   ]
  },
  {
   "cell_type": "markdown",
   "metadata": {},
   "source": [
    "Only 20% of the age data is missing. So, we need to fill the missing values. To do so, we can apply different methodologies:\n",
    "- Take the mean of the age values\n",
    "- Take random number with a normal law N(mean, std deviation) of the age\n",
    "- Split the people in smaller group and then take the mean of these subgroups using categorical features - > the one I chose.\n",
    "- Split the people in smaller group and then take random number with a normal law N(mean, std deviation) of the age within each subgroup\n",
    "\n",
    "We'll use the third one. "
   ]
  },
  {
   "cell_type": "code",
   "execution_count": 93,
   "metadata": {
    "ExecuteTime": {
     "end_time": "2018-06-26T00:04:13.497472Z",
     "start_time": "2018-06-26T00:04:13.257182Z"
    }
   },
   "outputs": [
    {
     "data": {
      "text/plain": [
       "<matplotlib.axes._subplots.AxesSubplot at 0x10de76d68>"
      ]
     },
     "execution_count": 93,
     "metadata": {},
     "output_type": "execute_result"
    },
    {
     "data": {
      "image/png": "[encoded data removed]",
      "text/plain": [
       "<matplotlib.figure.Figure at 0x10dd7e7b8>"
      ]
     },
     "metadata": {},
     "output_type": "display_data"
    }
   ],
   "source": [
    "sns.distplot(df.Age.fillna(200))"
   ]
  },
  {
   "cell_type": "markdown",
   "metadata": {},
   "source": [
    "For visualization, we plot here the distribution of the age in the boat. We filled the missing value by 200 in order to be able to visualize them too. "
   ]
  },
  {
   "cell_type": "markdown",
   "metadata": {},
   "source": [
    "## Feature Exploration"
   ]
  },
  {
   "cell_type": "code",
   "execution_count": 94,
   "metadata": {
    "ExecuteTime": {
     "end_time": "2018-06-26T00:04:13.525455Z",
     "start_time": "2018-06-26T00:04:13.500037Z"
    }
   },
   "outputs": [
    {
     "name": "stdout",
     "output_type": "stream",
     "text": [
      "They are 11 features in the dataset.\n",
      "----------------\n",
      "feature: PassengerId || Type: <class 'numpy.int64'> || Example: 1 || number of unique values 891\n",
      "feature: Pclass || Type: <class 'numpy.int64'> || Example: 3 || number of unique values 3\n",
      "feature: Name || Type: <class 'str'> || Example: Braund, Mr. Owen Harris || number of unique values 891\n",
      "feature: Sex || Type: <class 'str'> || Example: male || number of unique values 2\n",
      "feature: Age || Type: <class 'numpy.float64'> || Example: 22.0 || number of unique values 89\n",
      "feature: SibSp || Type: <class 'numpy.int64'> || Example: 1 || number of unique values 7\n",
      "feature: Parch || Type: <class 'numpy.int64'> || Example: 0 || number of unique values 7\n",
      "feature: Ticket || Type: <class 'str'> || Example: A/5 21171 || number of unique values 681\n",
      "feature: Fare || Type: <class 'numpy.float64'> || Example: 7.25 || number of unique values 248\n",
      "feature: Cabin || Type: <class 'float'> || Example: nan || number of unique values 148\n",
      "feature: Embarked || Type: <class 'str'> || Example: S || number of unique values 4\n"
     ]
    }
   ],
   "source": [
    "list_features = df_test.columns\n",
    "print('They are',len(list_features),'features in the dataset.')\n",
    "print('----------------')\n",
    "for f in list_features:\n",
    "    print('feature:', f, '|| Type:', type(df[f][0]), '|| Example:', df[f][0], '|| number of unique values', len(df[f].unique()) )"
   ]
  },
  {
   "cell_type": "markdown",
   "metadata": {},
   "source": [
    "The dataset proposes 11 features:\n",
    "- PassengerId: This is a number automatically attributed to each passenger: we can get ride of it.\n",
    "- Pclass: This is an ordered categorical variable. Indeed, there is a relationship between classes. 1 > 2 > 3. To allow model to uncover relation, we can code it with numerical values which reflects the order. This methods is so-called polynomial contrast (see the amazing [class](http://www.feat.engineering/encoding-categorical-predictors.html#tab:categorical-ordered-table) and you can see here the [table](http://users.stat.ufl.edu/~winner/tables/orthpol.pdf) for linear and quadratic polynomial.\n",
    "- Name: This is a string. The name is like an idea, a unique identifier (as much name as IDs). We can't use the raw name as a feature. We can see that the title is present in the middle of the name. This can be extracted to engineer a new feature. \n",
    "- Sex: Two categories. Because there is no order between the 2, we can encode it using [one-hot encoding](https://fr.wikipedia.org/wiki/Encodage_one-hot).\n",
    "- Age: Numerical values, we can keep it as numerical or group them in sub-groups. But first, we'll need to fill the N/A values. \n",
    "- SibSp: number of sibling/spouse on board. Integer values, let's see after. \n",
    "- Parch: number of parent/children on board. Integer values, let's see after.\n",
    "- Ticket: Ticket number. There is less ticket numbers than IDs. Let's observe it later.\n",
    "- Fare: Fare of the ticket. Numerical value.\n",
    "- Cabin: Let's see later. \n",
    "- Embarked: Port of embarkation. There are 4 values (one is missing, we'll get ride of the 2 missing rows). There is no order between the port. Let's encode it with [one-hot encoding](https://fr.wikipedia.org/wiki/Encodage_one-hot)."
   ]
  },
  {
   "cell_type": "markdown",
   "metadata": {
    "ExecuteTime": {
     "end_time": "2018-06-17T14:56:23.452651Z",
     "start_time": "2018-06-17T14:56:23.449795Z"
    }
   },
   "source": [
    "# Analysis "
   ]
  },
  {
   "cell_type": "markdown",
   "metadata": {},
   "source": [
    "## Categorical and Integer Numerical"
   ]
  },
  {
   "cell_type": "markdown",
   "metadata": {},
   "source": [
    "Let's observe the survival of people following the categorical features. "
   ]
  },
  {
   "cell_type": "code",
   "execution_count": 95,
   "metadata": {
    "ExecuteTime": {
     "end_time": "2018-06-26T00:04:13.543598Z",
     "start_time": "2018-06-26T00:04:13.528042Z"
    }
   },
   "outputs": [
    {
     "data": {
      "text/html": [
       "<div>\n",
       "<style scoped>\n",
       "    .dataframe tbody tr th:only-of-type {\n",
       "        vertical-align: middle;\n",
       "    }\n",
       "\n",
       "    .dataframe tbody tr th {\n",
       "        vertical-align: top;\n",
       "    }\n",
       "\n",
       "    .dataframe thead th {\n",
       "        text-align: right;\n",
       "    }\n",
       "</style>\n",
       "<table border=\"1\" class=\"dataframe\">\n",
       "  <thead>\n",
       "    <tr style=\"text-align: right;\">\n",
       "      <th></th>\n",
       "      <th>Survived</th>\n",
       "    </tr>\n",
       "    <tr>\n",
       "      <th>Pclass</th>\n",
       "      <th></th>\n",
       "    </tr>\n",
       "  </thead>\n",
       "  <tbody>\n",
       "    <tr>\n",
       "      <th>1</th>\n",
       "      <td>0.629630</td>\n",
       "    </tr>\n",
       "    <tr>\n",
       "      <th>2</th>\n",
       "      <td>0.472826</td>\n",
       "    </tr>\n",
       "    <tr>\n",
       "      <th>3</th>\n",
       "      <td>0.242363</td>\n",
       "    </tr>\n",
       "  </tbody>\n",
       "</table>\n",
       "</div>"
      ],
      "text/plain": [
       "        Survived\n",
       "Pclass          \n",
       "1       0.629630\n",
       "2       0.472826\n",
       "3       0.242363"
      ]
     },
     "execution_count": 95,
     "metadata": {},
     "output_type": "execute_result"
    }
   ],
   "source": [
    "df[['Pclass', 'Survived']].groupby('Pclass').mean().sort_values(by='Survived', ascending=False)"
   ]
  },
  {
   "cell_type": "markdown",
   "metadata": {},
   "source": [
    "It seems that the more you are in a upper class, the more you are likely to survive. "
   ]
  },
  {
   "cell_type": "code",
   "execution_count": 96,
   "metadata": {
    "ExecuteTime": {
     "end_time": "2018-06-26T00:04:13.562430Z",
     "start_time": "2018-06-26T00:04:13.546274Z"
    }
   },
   "outputs": [
    {
     "data": {
      "text/html": [
       "<div>\n",
       "<style scoped>\n",
       "    .dataframe tbody tr th:only-of-type {\n",
       "        vertical-align: middle;\n",
       "    }\n",
       "\n",
       "    .dataframe tbody tr th {\n",
       "        vertical-align: top;\n",
       "    }\n",
       "\n",
       "    .dataframe thead th {\n",
       "        text-align: right;\n",
       "    }\n",
       "</style>\n",
       "<table border=\"1\" class=\"dataframe\">\n",
       "  <thead>\n",
       "    <tr style=\"text-align: right;\">\n",
       "      <th></th>\n",
       "      <th>Survived</th>\n",
       "    </tr>\n",
       "    <tr>\n",
       "      <th>Sex</th>\n",
       "      <th></th>\n",
       "    </tr>\n",
       "  </thead>\n",
       "  <tbody>\n",
       "    <tr>\n",
       "      <th>female</th>\n",
       "      <td>0.742038</td>\n",
       "    </tr>\n",
       "    <tr>\n",
       "      <th>male</th>\n",
       "      <td>0.188908</td>\n",
       "    </tr>\n",
       "  </tbody>\n",
       "</table>\n",
       "</div>"
      ],
      "text/plain": [
       "        Survived\n",
       "Sex             \n",
       "female  0.742038\n",
       "male    0.188908"
      ]
     },
     "execution_count": 96,
     "metadata": {},
     "output_type": "execute_result"
    }
   ],
   "source": [
    "df[['Sex', 'Survived']].groupby('Sex').mean().sort_values(by='Survived', ascending=False)"
   ]
  },
  {
   "cell_type": "markdown",
   "metadata": {},
   "source": [
    "Being a female gives a lot of chance to survive compare to male. "
   ]
  },
  {
   "cell_type": "code",
   "execution_count": 97,
   "metadata": {
    "ExecuteTime": {
     "end_time": "2018-06-26T00:04:13.583933Z",
     "start_time": "2018-06-26T00:04:13.565334Z"
    }
   },
   "outputs": [
    {
     "data": {
      "text/html": [
       "<div>\n",
       "<style scoped>\n",
       "    .dataframe tbody tr th:only-of-type {\n",
       "        vertical-align: middle;\n",
       "    }\n",
       "\n",
       "    .dataframe tbody tr th {\n",
       "        vertical-align: top;\n",
       "    }\n",
       "\n",
       "    .dataframe thead th {\n",
       "        text-align: right;\n",
       "    }\n",
       "</style>\n",
       "<table border=\"1\" class=\"dataframe\">\n",
       "  <thead>\n",
       "    <tr style=\"text-align: right;\">\n",
       "      <th></th>\n",
       "      <th>Survived</th>\n",
       "    </tr>\n",
       "    <tr>\n",
       "      <th>Embarked</th>\n",
       "      <th></th>\n",
       "    </tr>\n",
       "  </thead>\n",
       "  <tbody>\n",
       "    <tr>\n",
       "      <th>C</th>\n",
       "      <td>0.553571</td>\n",
       "    </tr>\n",
       "    <tr>\n",
       "      <th>Q</th>\n",
       "      <td>0.389610</td>\n",
       "    </tr>\n",
       "    <tr>\n",
       "      <th>S</th>\n",
       "      <td>0.336957</td>\n",
       "    </tr>\n",
       "  </tbody>\n",
       "</table>\n",
       "</div>"
      ],
      "text/plain": [
       "          Survived\n",
       "Embarked          \n",
       "C         0.553571\n",
       "Q         0.389610\n",
       "S         0.336957"
      ]
     },
     "execution_count": 97,
     "metadata": {},
     "output_type": "execute_result"
    }
   ],
   "source": [
    "df[['Embarked', 'Survived']].groupby('Embarked').mean().sort_values(by='Survived', ascending=False)"
   ]
  },
  {
   "cell_type": "markdown",
   "metadata": {},
   "source": [
    "Being from Cherbourg is a factor a survival. Southampton decreases your chance of survival. This is surprising! "
   ]
  },
  {
   "cell_type": "code",
   "execution_count": 98,
   "metadata": {
    "ExecuteTime": {
     "end_time": "2018-06-26T00:04:13.600800Z",
     "start_time": "2018-06-26T00:04:13.586324Z"
    },
    "scrolled": false
   },
   "outputs": [
    {
     "data": {
      "text/html": [
       "<div>\n",
       "<style scoped>\n",
       "    .dataframe tbody tr th:only-of-type {\n",
       "        vertical-align: middle;\n",
       "    }\n",
       "\n",
       "    .dataframe tbody tr th {\n",
       "        vertical-align: top;\n",
       "    }\n",
       "\n",
       "    .dataframe thead th {\n",
       "        text-align: right;\n",
       "    }\n",
       "</style>\n",
       "<table border=\"1\" class=\"dataframe\">\n",
       "  <thead>\n",
       "    <tr style=\"text-align: right;\">\n",
       "      <th></th>\n",
       "      <th>Pclass</th>\n",
       "    </tr>\n",
       "    <tr>\n",
       "      <th>Embarked</th>\n",
       "      <th></th>\n",
       "    </tr>\n",
       "  </thead>\n",
       "  <tbody>\n",
       "    <tr>\n",
       "      <th>Q</th>\n",
       "      <td>2.909091</td>\n",
       "    </tr>\n",
       "    <tr>\n",
       "      <th>S</th>\n",
       "      <td>2.350932</td>\n",
       "    </tr>\n",
       "    <tr>\n",
       "      <th>C</th>\n",
       "      <td>1.886905</td>\n",
       "    </tr>\n",
       "  </tbody>\n",
       "</table>\n",
       "</div>"
      ],
      "text/plain": [
       "            Pclass\n",
       "Embarked          \n",
       "Q         2.909091\n",
       "S         2.350932\n",
       "C         1.886905"
      ]
     },
     "execution_count": 98,
     "metadata": {},
     "output_type": "execute_result"
    }
   ],
   "source": [
    "df[['Embarked', 'Pclass']].groupby('Embarked').mean().sort_values(by='Pclass', ascending=False)"
   ]
  },
  {
   "cell_type": "markdown",
   "metadata": {},
   "source": [
    "We can see that people from Cherbourg were more settled in the Class 1. This can be an explanation. "
   ]
  },
  {
   "cell_type": "code",
   "execution_count": 99,
   "metadata": {
    "ExecuteTime": {
     "end_time": "2018-06-26T00:04:13.621702Z",
     "start_time": "2018-06-26T00:04:13.604260Z"
    },
    "scrolled": true
   },
   "outputs": [
    {
     "name": "stdout",
     "output_type": "stream",
     "text": [
      "               Sex\n",
      "Embarked          \n",
      "S         0.684783\n",
      "C         0.565476\n",
      "Q         0.532468\n"
     ]
    }
   ],
   "source": [
    "title_mapping = {\"male\": 1, \"female\": 0}\n",
    "df_ = df.copy()\n",
    "df_['Sex'] = df_['Sex'].map(title_mapping)\n",
    "print(df_[['Embarked', 'Sex']].groupby('Embarked').mean().sort_values(by='Sex', ascending=False))\n",
    "del(df_)"
   ]
  },
  {
   "cell_type": "markdown",
   "metadata": {},
   "source": [
    "The low survival of S can be explained by the high-rate of men. "
   ]
  },
  {
   "cell_type": "code",
   "execution_count": 100,
   "metadata": {
    "ExecuteTime": {
     "end_time": "2018-06-26T00:04:13.639709Z",
     "start_time": "2018-06-26T00:04:13.623817Z"
    }
   },
   "outputs": [
    {
     "data": {
      "text/html": [
       "<div>\n",
       "<style scoped>\n",
       "    .dataframe tbody tr th:only-of-type {\n",
       "        vertical-align: middle;\n",
       "    }\n",
       "\n",
       "    .dataframe tbody tr th {\n",
       "        vertical-align: top;\n",
       "    }\n",
       "\n",
       "    .dataframe thead th {\n",
       "        text-align: right;\n",
       "    }\n",
       "</style>\n",
       "<table border=\"1\" class=\"dataframe\">\n",
       "  <thead>\n",
       "    <tr style=\"text-align: right;\">\n",
       "      <th></th>\n",
       "      <th>Survived</th>\n",
       "    </tr>\n",
       "    <tr>\n",
       "      <th>SibSp</th>\n",
       "      <th></th>\n",
       "    </tr>\n",
       "  </thead>\n",
       "  <tbody>\n",
       "    <tr>\n",
       "      <th>1</th>\n",
       "      <td>0.535885</td>\n",
       "    </tr>\n",
       "    <tr>\n",
       "      <th>2</th>\n",
       "      <td>0.464286</td>\n",
       "    </tr>\n",
       "    <tr>\n",
       "      <th>0</th>\n",
       "      <td>0.345395</td>\n",
       "    </tr>\n",
       "    <tr>\n",
       "      <th>3</th>\n",
       "      <td>0.250000</td>\n",
       "    </tr>\n",
       "    <tr>\n",
       "      <th>4</th>\n",
       "      <td>0.166667</td>\n",
       "    </tr>\n",
       "    <tr>\n",
       "      <th>5</th>\n",
       "      <td>0.000000</td>\n",
       "    </tr>\n",
       "    <tr>\n",
       "      <th>8</th>\n",
       "      <td>0.000000</td>\n",
       "    </tr>\n",
       "  </tbody>\n",
       "</table>\n",
       "</div>"
      ],
      "text/plain": [
       "       Survived\n",
       "SibSp          \n",
       "1      0.535885\n",
       "2      0.464286\n",
       "0      0.345395\n",
       "3      0.250000\n",
       "4      0.166667\n",
       "5      0.000000\n",
       "8      0.000000"
      ]
     },
     "execution_count": 100,
     "metadata": {},
     "output_type": "execute_result"
    }
   ],
   "source": [
    "df[[\"SibSp\", \"Survived\"]].groupby(['SibSp']).mean().sort_values(by='Survived', ascending=False)"
   ]
  },
  {
   "cell_type": "code",
   "execution_count": 101,
   "metadata": {
    "ExecuteTime": {
     "end_time": "2018-06-26T00:04:13.656285Z",
     "start_time": "2018-06-26T00:04:13.641653Z"
    }
   },
   "outputs": [
    {
     "data": {
      "text/html": [
       "<div>\n",
       "<style scoped>\n",
       "    .dataframe tbody tr th:only-of-type {\n",
       "        vertical-align: middle;\n",
       "    }\n",
       "\n",
       "    .dataframe tbody tr th {\n",
       "        vertical-align: top;\n",
       "    }\n",
       "\n",
       "    .dataframe thead th {\n",
       "        text-align: right;\n",
       "    }\n",
       "</style>\n",
       "<table border=\"1\" class=\"dataframe\">\n",
       "  <thead>\n",
       "    <tr style=\"text-align: right;\">\n",
       "      <th></th>\n",
       "      <th>Survived</th>\n",
       "    </tr>\n",
       "    <tr>\n",
       "      <th>Parch</th>\n",
       "      <th></th>\n",
       "    </tr>\n",
       "  </thead>\n",
       "  <tbody>\n",
       "    <tr>\n",
       "      <th>3</th>\n",
       "      <td>0.600000</td>\n",
       "    </tr>\n",
       "    <tr>\n",
       "      <th>1</th>\n",
       "      <td>0.550847</td>\n",
       "    </tr>\n",
       "    <tr>\n",
       "      <th>2</th>\n",
       "      <td>0.500000</td>\n",
       "    </tr>\n",
       "    <tr>\n",
       "      <th>0</th>\n",
       "      <td>0.343658</td>\n",
       "    </tr>\n",
       "    <tr>\n",
       "      <th>5</th>\n",
       "      <td>0.200000</td>\n",
       "    </tr>\n",
       "    <tr>\n",
       "      <th>4</th>\n",
       "      <td>0.000000</td>\n",
       "    </tr>\n",
       "    <tr>\n",
       "      <th>6</th>\n",
       "      <td>0.000000</td>\n",
       "    </tr>\n",
       "  </tbody>\n",
       "</table>\n",
       "</div>"
      ],
      "text/plain": [
       "       Survived\n",
       "Parch          \n",
       "3      0.600000\n",
       "1      0.550847\n",
       "2      0.500000\n",
       "0      0.343658\n",
       "5      0.200000\n",
       "4      0.000000\n",
       "6      0.000000"
      ]
     },
     "execution_count": 101,
     "metadata": {},
     "output_type": "execute_result"
    }
   ],
   "source": [
    "df[[\"Parch\", \"Survived\"]].groupby(['Parch']).mean().sort_values(by='Survived', ascending=False)"
   ]
  },
  {
   "cell_type": "markdown",
   "metadata": {},
   "source": [
    "Having a lot of family makes you less likely to survive. Let's engineer this feature later!"
   ]
  },
  {
   "cell_type": "markdown",
   "metadata": {
    "ExecuteTime": {
     "end_time": "2018-06-17T15:23:27.887111Z",
     "start_time": "2018-06-17T15:23:27.882990Z"
    }
   },
   "source": [
    "<u>Conclusion:</u>\n",
    "- Pclass and Sex has a great correlation with the survival of people -> Keep them as features\n",
    "- SibSp & Parch require engineering. \n",
    "- Embarked: I have some doubts on the correlation between survival and Embarked. I think the observed correlation is [spurious](https://en.wikipedia.org/wiki/Spurious_relationship) and more due to third party factors (such as passenger class or sex). We'll need to try the model with/without this feature which will be encoded as one-hot. "
   ]
  },
  {
   "cell_type": "markdown",
   "metadata": {},
   "source": [
    "## Numerical"
   ]
  },
  {
   "cell_type": "code",
   "execution_count": 102,
   "metadata": {
    "ExecuteTime": {
     "end_time": "2018-06-26T00:04:13.888280Z",
     "start_time": "2018-06-26T00:04:13.658835Z"
    }
   },
   "outputs": [
    {
     "data": {
      "text/plain": [
       "<matplotlib.axes._subplots.AxesSubplot at 0x10de89470>"
      ]
     },
     "execution_count": 102,
     "metadata": {},
     "output_type": "execute_result"
    },
    {
     "data": {
      "image/png": "[encoded data removed]",
      "text/plain": [
       "<matplotlib.figure.Figure at 0x10de0ae10>"
      ]
     },
     "metadata": {},
     "output_type": "display_data"
    }
   ],
   "source": [
    "sns.distplot(df.Age.dropna())"
   ]
  },
  {
   "cell_type": "code",
   "execution_count": 103,
   "metadata": {
    "ExecuteTime": {
     "end_time": "2018-06-26T00:04:14.174684Z",
     "start_time": "2018-06-26T00:04:13.890860Z"
    }
   },
   "outputs": [
    {
     "data": {
      "text/plain": [
       "<matplotlib.axes._subplots.AxesSubplot at 0x10d5aa9e8>"
      ]
     },
     "execution_count": 103,
     "metadata": {},
     "output_type": "execute_result"
    },
    {
     "data": {
      "image/png": "[encoded data removed]",
      "text/plain": [
       "<matplotlib.figure.Figure at 0x10d6cb390>"
      ]
     },
     "metadata": {},
     "output_type": "display_data"
    }
   ],
   "source": [
    "sns.distplot(df.Fare.dropna())"
   ]
  },
  {
   "cell_type": "markdown",
   "metadata": {},
   "source": [
    "The distribution of fare especially is highly skewed. We can use Box-Cox transform in order to rescale the data. "
   ]
  },
  {
   "cell_type": "code",
   "execution_count": 104,
   "metadata": {
    "ExecuteTime": {
     "end_time": "2018-06-26T00:04:14.764756Z",
     "start_time": "2018-06-26T00:04:14.177773Z"
    }
   },
   "outputs": [
    {
     "name": "stdout",
     "output_type": "stream",
     "text": [
      "<seaborn.axisgrid.FacetGrid object at 0x10dbd4940>\n"
     ]
    },
    {
     "data": {
      "image/png": "[encoded data removed]",
      "text/plain": [
       "<matplotlib.figure.Figure at 0x10d895b00>"
      ]
     },
     "metadata": {},
     "output_type": "display_data"
    }
   ],
   "source": [
    "num = sns.FacetGrid(df, col='Survived')\n",
    "print(num.map(plt.hist, 'Age', bins=40))\n"
   ]
  },
  {
   "cell_type": "code",
   "execution_count": 105,
   "metadata": {
    "ExecuteTime": {
     "end_time": "2018-06-26T00:04:15.125527Z",
     "start_time": "2018-06-26T00:04:14.768150Z"
    }
   },
   "outputs": [
    {
     "name": "stdout",
     "output_type": "stream",
     "text": [
      "<seaborn.axisgrid.FacetGrid object at 0x10e3976d8>\n"
     ]
    },
    {
     "data": {
      "image/png": "[encoded data removed]",
      "text/plain": [
       "<matplotlib.figure.Figure at 0x10e3a9080>"
      ]
     },
     "metadata": {},
     "output_type": "display_data"
    }
   ],
   "source": [
    "num = sns.FacetGrid(df, col='Survived')\n",
    "print(num.map(plt.hist, 'Fare', bins=10))"
   ]
  },
  {
   "cell_type": "markdown",
   "metadata": {},
   "source": [
    "<u>Conclusion:</u>\n",
    "- Younger and older people survived.\n",
    "- The middle age (20-40) people did not survive. \n",
    "- We should consider the age as predicator\n",
    "\n",
    "- Fare is less clear"
   ]
  },
  {
   "cell_type": "markdown",
   "metadata": {},
   "source": [
    "# Feature engineering"
   ]
  },
  {
   "cell_type": "markdown",
   "metadata": {},
   "source": [
    "In this part, we engineer the features in order to feed the predictive model. "
   ]
  },
  {
   "cell_type": "markdown",
   "metadata": {},
   "source": [
    "## PassengerId"
   ]
  },
  {
   "cell_type": "markdown",
   "metadata": {
    "ExecuteTime": {
     "end_time": "2018-06-17T14:53:54.595946Z",
     "start_time": "2018-06-17T14:53:54.591531Z"
    }
   },
   "source": [
    "As said, we get ride of it."
   ]
  },
  {
   "cell_type": "code",
   "execution_count": 106,
   "metadata": {
    "ExecuteTime": {
     "end_time": "2018-06-26T00:04:15.137422Z",
     "start_time": "2018-06-26T00:04:15.128011Z"
    }
   },
   "outputs": [],
   "source": [
    "df.drop('PassengerId', axis = 1, inplace = True)\n",
    "df_test.drop('PassengerId', axis = 1, inplace = True)"
   ]
  },
  {
   "cell_type": "markdown",
   "metadata": {},
   "source": [
    "## Pclass"
   ]
  },
  {
   "cell_type": "markdown",
   "metadata": {},
   "source": [
    "Because of the ordered label of this class, we use the orthogonal polynom. Most of the time, we can use 2 types (linear and quadratic). Here the ordering in survival rate (1>2>3) makes us choosing the linear order. "
   ]
  },
  {
   "cell_type": "code",
   "execution_count": 107,
   "metadata": {
    "ExecuteTime": {
     "end_time": "2018-06-26T00:04:15.148581Z",
     "start_time": "2018-06-26T00:04:15.139769Z"
    }
   },
   "outputs": [],
   "source": [
    "mapping_pclass = {1:1, 2:0, 3:-1}\n",
    "df['Pclass'] = df['Pclass'].map(mapping_pclass)\n",
    "df_test['Pclass'] = df_test['Pclass'].map(mapping_pclass)"
   ]
  },
  {
   "cell_type": "markdown",
   "metadata": {},
   "source": [
    "## Name"
   ]
  },
  {
   "cell_type": "markdown",
   "metadata": {},
   "source": [
    "As seen previously, we can get the people's title from the name. "
   ]
  },
  {
   "cell_type": "code",
   "execution_count": 108,
   "metadata": {
    "ExecuteTime": {
     "end_time": "2018-06-26T00:04:15.158178Z",
     "start_time": "2018-06-26T00:04:15.150993Z"
    }
   },
   "outputs": [
    {
     "data": {
      "text/plain": [
       "'Doling, Mrs. John T (Ada Julia Bone)'"
      ]
     },
     "execution_count": 108,
     "metadata": {},
     "output_type": "execute_result"
    }
   ],
   "source": [
    "example = df.Name[98]\n",
    "example"
   ]
  },
  {
   "cell_type": "code",
   "execution_count": 109,
   "metadata": {
    "ExecuteTime": {
     "end_time": "2018-06-26T00:04:15.168687Z",
     "start_time": "2018-06-26T00:04:15.160759Z"
    }
   },
   "outputs": [],
   "source": [
    "def get_title(var):\n",
    "    \"\"\"\n",
    "    This function takes as input the name and returns the title of the people. \n",
    "    \n",
    "    \"\"\"\n",
    "    title = var.split(',')[1]\n",
    "    title2 = title.split('.')[0]\n",
    "    return title2[1:]"
   ]
  },
  {
   "cell_type": "code",
   "execution_count": 110,
   "metadata": {
    "ExecuteTime": {
     "end_time": "2018-06-26T00:04:15.209499Z",
     "start_time": "2018-06-26T00:04:15.172091Z"
    }
   },
   "outputs": [],
   "source": [
    "#create the title colmun\n",
    "\n",
    "df['Title'] = df.apply(lambda x: get_title(x.Name), axis = 1)\n",
    "df_test['Title'] = df_test.apply(lambda x: get_title(x.Name), axis = 1)"
   ]
  },
  {
   "cell_type": "code",
   "execution_count": 111,
   "metadata": {
    "ExecuteTime": {
     "end_time": "2018-06-26T00:04:15.230339Z",
     "start_time": "2018-06-26T00:04:15.211688Z"
    }
   },
   "outputs": [
    {
     "name": "stdout",
     "output_type": "stream",
     "text": [
      "Title\n",
      "Mr              517\n",
      "Miss            182\n",
      "Mrs             125\n",
      "Master           40\n",
      "Dr                7\n",
      "Rev               6\n",
      "Major             2\n",
      "Col               2\n",
      "Mlle              2\n",
      "Sir               1\n",
      "Ms                1\n",
      "Capt              1\n",
      "Mme               1\n",
      "Lady              1\n",
      "Jonkheer          1\n",
      "Don               1\n",
      "the Countess      1\n",
      "Name: Pclass, dtype: int64\n",
      "-------------\n",
      "-------------\n",
      "Title\n",
      "Mr        240\n",
      "Miss       78\n",
      "Mrs        72\n",
      "Master     21\n",
      "Col         2\n",
      "Rev         2\n",
      "Dona        1\n",
      "Dr          1\n",
      "Ms          1\n",
      "Name: Pclass, dtype: int64\n"
     ]
    }
   ],
   "source": [
    "print(df.groupby('Title').count().sort_values(by='Survived', ascending=False)['Pclass'])\n",
    "print('-------------')\n",
    "print('-------------')\n",
    "print(df_test.groupby('Title').count().sort_values(by='Name', ascending=False)['Pclass'])"
   ]
  },
  {
   "cell_type": "markdown",
   "metadata": {},
   "source": [
    "There is a majority of men. <br>\n",
    "However, many labels are few represented. Let's group them into a global label.\n"
   ]
  },
  {
   "cell_type": "code",
   "execution_count": 112,
   "metadata": {
    "ExecuteTime": {
     "end_time": "2018-06-26T00:04:15.252425Z",
     "start_time": "2018-06-26T00:04:15.232942Z"
    }
   },
   "outputs": [],
   "source": [
    "#mapping of the title\n",
    "#the mapping is defined with the following dictionnary \n",
    "\n",
    "title_map = {'Mlle':'Miss','Ms':'Miss','Mlle':'Miss', \n",
    "             'Mme':'Mrs', \n",
    "             'Dr':'Other','Rev':'Other', 'Major':'Other', 'Col':'Other', 'Sir':'Other', 'Dona':'Other',\n",
    "             'Capt':'Other', 'Lady':'Other','Jonkheer':'Other', 'Don':'Other', 'the Countess':'Other',\n",
    "            'Mr':'Mr',\n",
    "            'Miss':'Miss',\n",
    "            'Mrs':'Mrs',\n",
    "            'Master':'Master'}\n",
    "\n",
    "df['Title'] = df['Title'].map(title_map)\n",
    "df_test['Title'] = df_test['Title'].map(title_map)\n",
    "\n",
    "df.drop('Name', axis=1, inplace = True)\n",
    "df_test.drop('Name', axis=1, inplace = True)"
   ]
  },
  {
   "cell_type": "code",
   "execution_count": 113,
   "metadata": {
    "ExecuteTime": {
     "end_time": "2018-06-26T00:04:15.269253Z",
     "start_time": "2018-06-26T00:04:15.255274Z"
    },
    "scrolled": true
   },
   "outputs": [
    {
     "data": {
      "text/html": [
       "<div>\n",
       "<style scoped>\n",
       "    .dataframe tbody tr th:only-of-type {\n",
       "        vertical-align: middle;\n",
       "    }\n",
       "\n",
       "    .dataframe tbody tr th {\n",
       "        vertical-align: top;\n",
       "    }\n",
       "\n",
       "    .dataframe thead th {\n",
       "        text-align: right;\n",
       "    }\n",
       "</style>\n",
       "<table border=\"1\" class=\"dataframe\">\n",
       "  <thead>\n",
       "    <tr style=\"text-align: right;\">\n",
       "      <th></th>\n",
       "      <th>Survived</th>\n",
       "    </tr>\n",
       "    <tr>\n",
       "      <th>Title</th>\n",
       "      <th></th>\n",
       "    </tr>\n",
       "  </thead>\n",
       "  <tbody>\n",
       "    <tr>\n",
       "      <th>Mrs</th>\n",
       "      <td>0.793651</td>\n",
       "    </tr>\n",
       "    <tr>\n",
       "      <th>Miss</th>\n",
       "      <td>0.702703</td>\n",
       "    </tr>\n",
       "    <tr>\n",
       "      <th>Master</th>\n",
       "      <td>0.575000</td>\n",
       "    </tr>\n",
       "    <tr>\n",
       "      <th>Other</th>\n",
       "      <td>0.347826</td>\n",
       "    </tr>\n",
       "    <tr>\n",
       "      <th>Mr</th>\n",
       "      <td>0.156673</td>\n",
       "    </tr>\n",
       "  </tbody>\n",
       "</table>\n",
       "</div>"
      ],
      "text/plain": [
       "        Survived\n",
       "Title           \n",
       "Mrs     0.793651\n",
       "Miss    0.702703\n",
       "Master  0.575000\n",
       "Other   0.347826\n",
       "Mr      0.156673"
      ]
     },
     "execution_count": 113,
     "metadata": {},
     "output_type": "execute_result"
    }
   ],
   "source": [
    "df[['Title', 'Survived']].groupby('Title').mean().sort_values(by='Survived', ascending=False)"
   ]
  },
  {
   "cell_type": "markdown",
   "metadata": {
    "ExecuteTime": {
     "end_time": "2018-06-17T17:42:52.957656Z",
     "start_time": "2018-06-17T17:42:52.910169Z"
    }
   },
   "source": [
    "Then, we'll encode the variable using one-hot encoding later. "
   ]
  },
  {
   "cell_type": "markdown",
   "metadata": {},
   "source": [
    "Let's check if the coding worked. "
   ]
  },
  {
   "cell_type": "code",
   "execution_count": 114,
   "metadata": {
    "ExecuteTime": {
     "end_time": "2018-06-26T00:04:15.290027Z",
     "start_time": "2018-06-26T00:04:15.272915Z"
    }
   },
   "outputs": [
    {
     "name": "stdout",
     "output_type": "stream",
     "text": [
      "Sex     Title \n",
      "female  Miss      185\n",
      "        Mrs       126\n",
      "        Other       3\n",
      "male    Master     40\n",
      "        Mr        517\n",
      "        Other      20\n",
      "Name: Pclass, dtype: int64\n",
      "---------------\n",
      "---------------\n",
      "Sex     Title \n",
      "female  Miss       79\n",
      "        Mrs        72\n",
      "        Other       1\n",
      "male    Master     21\n",
      "        Mr        240\n",
      "        Other       5\n",
      "Name: Pclass, dtype: int64\n"
     ]
    }
   ],
   "source": [
    "print(df.groupby(['Sex', 'Title']).count().Pclass)\n",
    "print('---------------')\n",
    "print('---------------')\n",
    "print(df_test.groupby(['Sex', 'Title']).count().Pclass)\n"
   ]
  },
  {
   "cell_type": "markdown",
   "metadata": {},
   "source": [
    "So, we don't have wrong title (example: a female labeled as Mr.) "
   ]
  },
  {
   "cell_type": "markdown",
   "metadata": {},
   "source": [
    "## Sex"
   ]
  },
  {
   "cell_type": "markdown",
   "metadata": {},
   "source": [
    "Nothing to do, let's just encode it later. "
   ]
  },
  {
   "cell_type": "markdown",
   "metadata": {},
   "source": [
    "## Age"
   ]
  },
  {
   "cell_type": "markdown",
   "metadata": {},
   "source": [
    "Recall: There is a lot of missing value (20% of the dataset) so we need to fill these NaNs. We will use the categorical variables to get the mean for each subgroup and then use it to fill NaNs. "
   ]
  },
  {
   "cell_type": "markdown",
   "metadata": {},
   "source": [
    "To do so, we can use all the data we have access and so both training and testing data. To avoid data leakage from the test set, we fill in missing ages in the train using the train set and we fill in ages in the test set using values calculated from the train set as well."
   ]
  },
  {
   "cell_type": "code",
   "execution_count": 115,
   "metadata": {
    "ExecuteTime": {
     "end_time": "2018-06-26T00:04:15.327605Z",
     "start_time": "2018-06-26T00:04:15.292607Z"
    }
   },
   "outputs": [],
   "source": [
    "#these are the used categorical features\n",
    "\n",
    "cat = ['Sex', 'Pclass', 'Title']\n",
    "\n",
    "\n",
    "\n",
    "#this dataframe contains the age and the categorical values \n",
    "df_age = df[cat + ['Age']].append(df_test[cat + ['Age']])"
   ]
  },
  {
   "cell_type": "code",
   "execution_count": 116,
   "metadata": {
    "ExecuteTime": {
     "end_time": "2018-06-26T00:04:15.364160Z",
     "start_time": "2018-06-26T00:04:15.336240Z"
    }
   },
   "outputs": [],
   "source": [
    "#This dataframe enables us to compute the average age in function of the categorical variables \n",
    "\n",
    "df_age_mean = round(df_age.dropna().groupby(cat, as_index=True).median(),1)\n",
    "\n",
    "def get_age(var, sex, pclass, title):\n",
    "    \"\"\"\n",
    "    This function takes as input the categorical variables \n",
    "    and it returns the average age given the categorical variables \n",
    "    \n",
    "    \"\"\"\n",
    "    if np.isnan(var):\n",
    "        mean = df_age_mean['Age'][sex][pclass][title]\n",
    "    else:\n",
    "        mean = var\n",
    "    return mean"
   ]
  },
  {
   "cell_type": "code",
   "execution_count": 117,
   "metadata": {
    "ExecuteTime": {
     "end_time": "2018-06-26T00:04:15.675101Z",
     "start_time": "2018-06-26T00:04:15.367456Z"
    }
   },
   "outputs": [],
   "source": [
    "df_age['Age2'] = df_age.apply(lambda x: get_age(x.Age, x.Sex, x.Pclass, x.Title), axis=1)"
   ]
  },
  {
   "cell_type": "code",
   "execution_count": 118,
   "metadata": {
    "ExecuteTime": {
     "end_time": "2018-06-26T00:04:15.687219Z",
     "start_time": "2018-06-26T00:04:15.677455Z"
    }
   },
   "outputs": [
    {
     "data": {
      "text/plain": [
       "Sex         0\n",
       "Pclass      0\n",
       "Title       0\n",
       "Age       263\n",
       "Age2        0\n",
       "dtype: int64"
      ]
     },
     "execution_count": 118,
     "metadata": {},
     "output_type": "execute_result"
    }
   ],
   "source": [
    "df_age.isnull().sum()"
   ]
  },
  {
   "cell_type": "markdown",
   "metadata": {},
   "source": [
    "So, we filled every NaN values. Let's fill the df and df_test. "
   ]
  },
  {
   "cell_type": "code",
   "execution_count": 119,
   "metadata": {
    "ExecuteTime": {
     "end_time": "2018-06-26T00:04:16.320883Z",
     "start_time": "2018-06-26T00:04:15.690637Z"
    }
   },
   "outputs": [],
   "source": [
    "#filling the original dataframes\n",
    "df['Age'] = df.apply(lambda x: get_age(x.Age, x.Sex, x.Pclass, x.Title), axis=1)\n",
    "df_test['Age'] = df_test.apply(lambda x: get_age(x.Age, x.Sex, x.Pclass, x.Title), axis=1)\n"
   ]
  },
  {
   "cell_type": "code",
   "execution_count": 120,
   "metadata": {
    "ExecuteTime": {
     "end_time": "2018-06-26T00:04:16.807871Z",
     "start_time": "2018-06-26T00:04:16.329889Z"
    }
   },
   "outputs": [
    {
     "name": "stdout",
     "output_type": "stream",
     "text": [
      "<seaborn.axisgrid.FacetGrid object at 0x10e013630>\n"
     ]
    },
    {
     "data": {
      "image/png": "[encoded data removed]",
      "text/plain": [
       "<matplotlib.figure.Figure at 0x10e013550>"
      ]
     },
     "metadata": {},
     "output_type": "display_data"
    }
   ],
   "source": [
    "num = sns.FacetGrid(df, col='Survived')\n",
    "print(num.map(plt.hist, 'Age', bins=40))"
   ]
  },
  {
   "cell_type": "markdown",
   "metadata": {},
   "source": [
    "Remark: A majority of the attributed age have been attributed to the 28.3 age."
   ]
  },
  {
   "cell_type": "markdown",
   "metadata": {},
   "source": [
    "The curve is skewed. Let's use [Box-Cox](https://docs.scipy.org/doc/scipy/reference/generated/scipy.stats.boxcox.html) transform to map the data to a Normal distribution. <br>\n",
    "Thanks to [Jason Brownlee](https://machinelearningmastery.com/about/) for its amazing [tutorial](https://machinelearningmastery.com/power-transform-time-series-forecast-data-python/)."
   ]
  },
  {
   "cell_type": "code",
   "execution_count": 121,
   "metadata": {
    "ExecuteTime": {
     "end_time": "2018-06-26T00:04:17.221294Z",
     "start_time": "2018-06-26T00:04:16.810462Z"
    }
   },
   "outputs": [
    {
     "name": "stdout",
     "output_type": "stream",
     "text": [
      "Lambda: 0.764108\n"
     ]
    },
    {
     "data": {
      "image/png": "[encoded data removed]",
      "text/plain": [
       "<matplotlib.figure.Figure at 0x10ebca208>"
      ]
     },
     "metadata": {},
     "output_type": "display_data"
    },
    {
     "data": {
      "image/png": "[encoded data removed]",
      "text/plain": [
       "<matplotlib.figure.Figure at 0x10db5e2b0>"
      ]
     },
     "metadata": {},
     "output_type": "display_data"
    }
   ],
   "source": [
    "#we use the training dataset to estimate the box cox coefficient\n",
    "\n",
    "df['Age2'], lam_age = boxcox(df['Age'])\n",
    "print('Lambda: %f' % lam_age)\n",
    "\n",
    "# histogram\n",
    "pyplot.hist(df['Age'])\n",
    "pyplot.show()\n",
    "\n",
    "pyplot.hist(df['Age2'])\n",
    "pyplot.show()"
   ]
  },
  {
   "cell_type": "code",
   "execution_count": 122,
   "metadata": {
    "ExecuteTime": {
     "end_time": "2018-06-26T00:04:18.126607Z",
     "start_time": "2018-06-26T00:04:17.223724Z"
    }
   },
   "outputs": [
    {
     "name": "stdout",
     "output_type": "stream",
     "text": [
      "<seaborn.axisgrid.FacetGrid object at 0x10dc45ba8>\n",
      "<seaborn.axisgrid.FacetGrid object at 0x10e013630>\n"
     ]
    },
    {
     "data": {
      "image/png": "[encoded data removed]",
      "text/plain": [
       "<matplotlib.figure.Figure at 0x10dc57898>"
      ]
     },
     "metadata": {},
     "output_type": "display_data"
    },
    {
     "data": {
      "image/png": "[encoded data removed]",
      "text/plain": [
       "<matplotlib.figure.Figure at 0x10e283eb8>"
      ]
     },
     "metadata": {},
     "output_type": "display_data"
    }
   ],
   "source": [
    "num = sns.FacetGrid(df, col='Survived')\n",
    "print(num.map(plt.hist, 'Age', bins=40))\n",
    "num = sns.FacetGrid(df, col='Survived')\n",
    "print(num.map(plt.hist, 'Age2', bins=40))"
   ]
  },
  {
   "cell_type": "code",
   "execution_count": 123,
   "metadata": {
    "ExecuteTime": {
     "end_time": "2018-06-26T00:04:18.135313Z",
     "start_time": "2018-06-26T00:04:18.129298Z"
    }
   },
   "outputs": [],
   "source": [
    "df.drop(['Age2'], axis=1, inplace= True)"
   ]
  },
  {
   "cell_type": "code",
   "execution_count": 124,
   "metadata": {
    "ExecuteTime": {
     "end_time": "2018-06-26T00:04:18.171688Z",
     "start_time": "2018-06-26T00:04:18.137709Z"
    }
   },
   "outputs": [],
   "source": [
    "#here we apply the box-cox transformation to the 2 datasets\n",
    "\n",
    "def get_transform(var):\n",
    "    return (var**lam_age - 1) / lam_age\n",
    "\n",
    "df['Age'] = df.apply(lambda x: get_transform(x.Age),axis=1)\n",
    "df_test['Age'] = df_test.apply(lambda x: get_transform(x.Age),axis=1)\n"
   ]
  },
  {
   "cell_type": "markdown",
   "metadata": {},
   "source": [
    "## Parch & SibSp"
   ]
  },
  {
   "cell_type": "markdown",
   "metadata": {},
   "source": [
    "We saw previously that we needed to perform transformation on these 2 series. Let's design new features:\n",
    "- Size of the Family: the number of on-board family members \n",
    "- isAlone: dummy equal to one if the passenger travels alone"
   ]
  },
  {
   "cell_type": "code",
   "execution_count": 125,
   "metadata": {
    "ExecuteTime": {
     "end_time": "2018-06-26T00:04:18.178860Z",
     "start_time": "2018-06-26T00:04:18.174093Z"
    }
   },
   "outputs": [],
   "source": [
    "def get_family_size(Parch, SibSp):\n",
    "    \"\"\"\n",
    "    Return the size of the family \n",
    "    \n",
    "    +1 comes from we need to add the person to the size of the family.\n",
    "    \n",
    "    \"\"\"\n",
    "    return Parch + SibSp + 1"
   ]
  },
  {
   "cell_type": "code",
   "execution_count": 126,
   "metadata": {
    "ExecuteTime": {
     "end_time": "2018-06-26T00:04:18.232523Z",
     "start_time": "2018-06-26T00:04:18.181316Z"
    }
   },
   "outputs": [],
   "source": [
    "df['FamilySize'] = df.apply(lambda x: get_family_size(x.Parch, x.SibSp), axis = 1)\n",
    "df_test['FamilySize'] = df_test.apply(lambda x: get_family_size(x.Parch, x.SibSp), axis = 1)\n"
   ]
  },
  {
   "cell_type": "code",
   "execution_count": 127,
   "metadata": {
    "ExecuteTime": {
     "end_time": "2018-06-26T00:04:18.251112Z",
     "start_time": "2018-06-26T00:04:18.235060Z"
    },
    "scrolled": true
   },
   "outputs": [
    {
     "data": {
      "text/html": [
       "<div>\n",
       "<style scoped>\n",
       "    .dataframe tbody tr th:only-of-type {\n",
       "        vertical-align: middle;\n",
       "    }\n",
       "\n",
       "    .dataframe tbody tr th {\n",
       "        vertical-align: top;\n",
       "    }\n",
       "\n",
       "    .dataframe thead th {\n",
       "        text-align: right;\n",
       "    }\n",
       "</style>\n",
       "<table border=\"1\" class=\"dataframe\">\n",
       "  <thead>\n",
       "    <tr style=\"text-align: right;\">\n",
       "      <th></th>\n",
       "      <th>Survived</th>\n",
       "    </tr>\n",
       "    <tr>\n",
       "      <th>FamilySize</th>\n",
       "      <th></th>\n",
       "    </tr>\n",
       "  </thead>\n",
       "  <tbody>\n",
       "    <tr>\n",
       "      <th>4</th>\n",
       "      <td>0.724138</td>\n",
       "    </tr>\n",
       "    <tr>\n",
       "      <th>3</th>\n",
       "      <td>0.578431</td>\n",
       "    </tr>\n",
       "    <tr>\n",
       "      <th>2</th>\n",
       "      <td>0.552795</td>\n",
       "    </tr>\n",
       "    <tr>\n",
       "      <th>7</th>\n",
       "      <td>0.333333</td>\n",
       "    </tr>\n",
       "    <tr>\n",
       "      <th>1</th>\n",
       "      <td>0.303538</td>\n",
       "    </tr>\n",
       "    <tr>\n",
       "      <th>5</th>\n",
       "      <td>0.200000</td>\n",
       "    </tr>\n",
       "    <tr>\n",
       "      <th>6</th>\n",
       "      <td>0.136364</td>\n",
       "    </tr>\n",
       "    <tr>\n",
       "      <th>8</th>\n",
       "      <td>0.000000</td>\n",
       "    </tr>\n",
       "    <tr>\n",
       "      <th>11</th>\n",
       "      <td>0.000000</td>\n",
       "    </tr>\n",
       "  </tbody>\n",
       "</table>\n",
       "</div>"
      ],
      "text/plain": [
       "            Survived\n",
       "FamilySize          \n",
       "4           0.724138\n",
       "3           0.578431\n",
       "2           0.552795\n",
       "7           0.333333\n",
       "1           0.303538\n",
       "5           0.200000\n",
       "6           0.136364\n",
       "8           0.000000\n",
       "11          0.000000"
      ]
     },
     "execution_count": 127,
     "metadata": {},
     "output_type": "execute_result"
    }
   ],
   "source": [
    "df[[\"FamilySize\", \"Survived\"]].groupby(['FamilySize']).mean().sort_values(by='Survived', ascending=False)"
   ]
  },
  {
   "cell_type": "markdown",
   "metadata": {},
   "source": [
    "From this, we can see that the small families (less than 4) are more likely to have survivors. Then, alone people (probably lonely class 3 male passengers) and finally the big families."
   ]
  },
  {
   "cell_type": "code",
   "execution_count": 128,
   "metadata": {
    "ExecuteTime": {
     "end_time": "2018-06-26T00:04:18.260995Z",
     "start_time": "2018-06-26T00:04:18.253742Z"
    }
   },
   "outputs": [],
   "source": [
    "def get_family_type(var):\n",
    "    \"\"\"\n",
    "    take the size (integer) of the family and return a category (3 labels)\n",
    "    \n",
    "    \"\"\"\n",
    "    if var == 1:\n",
    "        return 'alone'\n",
    "    elif var<=4:\n",
    "        return 'small'\n",
    "    else:\n",
    "        return 'big'"
   ]
  },
  {
   "cell_type": "code",
   "execution_count": 129,
   "metadata": {
    "ExecuteTime": {
     "end_time": "2018-06-26T00:04:18.297059Z",
     "start_time": "2018-06-26T00:04:18.264139Z"
    }
   },
   "outputs": [],
   "source": [
    "df['FamilyType'] = df.apply(lambda x: get_family_type(x.FamilySize), axis = 1)\n",
    "df_test['FamilyType'] = df_test.apply(lambda x: get_family_type(x.FamilySize), axis = 1)\n"
   ]
  },
  {
   "cell_type": "code",
   "execution_count": 130,
   "metadata": {
    "ExecuteTime": {
     "end_time": "2018-06-26T00:04:18.312329Z",
     "start_time": "2018-06-26T00:04:18.299415Z"
    }
   },
   "outputs": [
    {
     "data": {
      "text/html": [
       "<div>\n",
       "<style scoped>\n",
       "    .dataframe tbody tr th:only-of-type {\n",
       "        vertical-align: middle;\n",
       "    }\n",
       "\n",
       "    .dataframe tbody tr th {\n",
       "        vertical-align: top;\n",
       "    }\n",
       "\n",
       "    .dataframe thead th {\n",
       "        text-align: right;\n",
       "    }\n",
       "</style>\n",
       "<table border=\"1\" class=\"dataframe\">\n",
       "  <thead>\n",
       "    <tr style=\"text-align: right;\">\n",
       "      <th></th>\n",
       "      <th>Survived</th>\n",
       "    </tr>\n",
       "    <tr>\n",
       "      <th>FamilyType</th>\n",
       "      <th></th>\n",
       "    </tr>\n",
       "  </thead>\n",
       "  <tbody>\n",
       "    <tr>\n",
       "      <th>small</th>\n",
       "      <td>0.578767</td>\n",
       "    </tr>\n",
       "    <tr>\n",
       "      <th>alone</th>\n",
       "      <td>0.303538</td>\n",
       "    </tr>\n",
       "    <tr>\n",
       "      <th>big</th>\n",
       "      <td>0.161290</td>\n",
       "    </tr>\n",
       "  </tbody>\n",
       "</table>\n",
       "</div>"
      ],
      "text/plain": [
       "            Survived\n",
       "FamilyType          \n",
       "small       0.578767\n",
       "alone       0.303538\n",
       "big         0.161290"
      ]
     },
     "execution_count": 130,
     "metadata": {},
     "output_type": "execute_result"
    }
   ],
   "source": [
    "df[[\"FamilyType\", \"Survived\"]].groupby(['FamilyType']).mean().sort_values(by='Survived', ascending=False)"
   ]
  },
  {
   "cell_type": "markdown",
   "metadata": {},
   "source": [
    "So, here, we well divided the familyType into 3 labels which are well separated in term of survival."
   ]
  },
  {
   "cell_type": "code",
   "execution_count": 131,
   "metadata": {
    "ExecuteTime": {
     "end_time": "2018-06-26T00:04:18.323584Z",
     "start_time": "2018-06-26T00:04:18.315000Z"
    }
   },
   "outputs": [],
   "source": [
    "df.drop(['FamilySize', 'Parch', 'SibSp'], axis = 1, inplace=True)\n",
    "df_test.drop(['FamilySize', 'Parch', 'SibSp'], axis = 1, inplace=True)"
   ]
  },
  {
   "cell_type": "markdown",
   "metadata": {},
   "source": [
    "## Ticket"
   ]
  },
  {
   "cell_type": "code",
   "execution_count": 132,
   "metadata": {
    "ExecuteTime": {
     "end_time": "2018-06-26T00:04:18.331948Z",
     "start_time": "2018-06-26T00:04:18.325787Z"
    }
   },
   "outputs": [
    {
     "data": {
      "text/plain": [
       "0           A/5 21171\n",
       "1            PC 17599\n",
       "2    STON/O2. 3101282\n",
       "3              113803\n",
       "4              373450\n",
       "Name: Ticket, dtype: object"
      ]
     },
     "execution_count": 132,
     "metadata": {},
     "output_type": "execute_result"
    }
   ],
   "source": [
    "df.Ticket.head()"
   ]
  },
  {
   "cell_type": "markdown",
   "metadata": {},
   "source": [
    "It seems some tickets share the same prefix. Let's assume the prefix is an indicator of the placement in the ship and the following number is an identifier. Then, let's extract the prefix ('missing_value' if no prefix which probably means the passengers has no placement in the ship) and figure out the feature."
   ]
  },
  {
   "cell_type": "code",
   "execution_count": 133,
   "metadata": {
    "ExecuteTime": {
     "end_time": "2018-06-26T00:04:18.340936Z",
     "start_time": "2018-06-26T00:04:18.334003Z"
    }
   },
   "outputs": [],
   "source": [
    "df_ex = df[['Survived', 'Ticket']].copy()"
   ]
  },
  {
   "cell_type": "code",
   "execution_count": 134,
   "metadata": {
    "ExecuteTime": {
     "end_time": "2018-06-26T00:04:18.350090Z",
     "start_time": "2018-06-26T00:04:18.343256Z"
    }
   },
   "outputs": [],
   "source": [
    "#We clean the data removing the '/' and '.'\n",
    "#the separator between prefix and identifiers is the space \n",
    "\n",
    "def get_prefix(var):\n",
    "    if var.isdigit():\n",
    "        return 'missing_value'\n",
    "    else:\n",
    "\n",
    "        var_ = var.replace('.','').replace('/', '').split(' ')[0]\n",
    "        return var_"
   ]
  },
  {
   "cell_type": "code",
   "execution_count": 135,
   "metadata": {
    "ExecuteTime": {
     "end_time": "2018-06-26T00:04:18.380895Z",
     "start_time": "2018-06-26T00:04:18.352245Z"
    }
   },
   "outputs": [],
   "source": [
    "list_prefix = list()\n",
    "for i in range(len(df_ex)):\n",
    "    list_prefix.append(get_prefix(df_ex.Ticket.iloc[i]))\n",
    "df_ex['prefix'] = list_prefix"
   ]
  },
  {
   "cell_type": "code",
   "execution_count": 136,
   "metadata": {
    "ExecuteTime": {
     "end_time": "2018-06-26T00:04:18.394760Z",
     "start_time": "2018-06-26T00:04:18.383179Z"
    }
   },
   "outputs": [
    {
     "data": {
      "text/html": [
       "<div>\n",
       "<style scoped>\n",
       "    .dataframe tbody tr th:only-of-type {\n",
       "        vertical-align: middle;\n",
       "    }\n",
       "\n",
       "    .dataframe tbody tr th {\n",
       "        vertical-align: top;\n",
       "    }\n",
       "\n",
       "    .dataframe thead th {\n",
       "        text-align: right;\n",
       "    }\n",
       "</style>\n",
       "<table border=\"1\" class=\"dataframe\">\n",
       "  <thead>\n",
       "    <tr style=\"text-align: right;\">\n",
       "      <th></th>\n",
       "      <th>Survived</th>\n",
       "      <th>Ticket</th>\n",
       "      <th>prefix</th>\n",
       "    </tr>\n",
       "  </thead>\n",
       "  <tbody>\n",
       "    <tr>\n",
       "      <th>0</th>\n",
       "      <td>0</td>\n",
       "      <td>A/5 21171</td>\n",
       "      <td>A5</td>\n",
       "    </tr>\n",
       "    <tr>\n",
       "      <th>1</th>\n",
       "      <td>1</td>\n",
       "      <td>PC 17599</td>\n",
       "      <td>PC</td>\n",
       "    </tr>\n",
       "    <tr>\n",
       "      <th>2</th>\n",
       "      <td>1</td>\n",
       "      <td>STON/O2. 3101282</td>\n",
       "      <td>STONO2</td>\n",
       "    </tr>\n",
       "    <tr>\n",
       "      <th>3</th>\n",
       "      <td>1</td>\n",
       "      <td>113803</td>\n",
       "      <td>missing_value</td>\n",
       "    </tr>\n",
       "    <tr>\n",
       "      <th>4</th>\n",
       "      <td>0</td>\n",
       "      <td>373450</td>\n",
       "      <td>missing_value</td>\n",
       "    </tr>\n",
       "  </tbody>\n",
       "</table>\n",
       "</div>"
      ],
      "text/plain": [
       "   Survived            Ticket         prefix\n",
       "0         0         A/5 21171             A5\n",
       "1         1          PC 17599             PC\n",
       "2         1  STON/O2. 3101282         STONO2\n",
       "3         1            113803  missing_value\n",
       "4         0            373450  missing_value"
      ]
     },
     "execution_count": 136,
     "metadata": {},
     "output_type": "execute_result"
    }
   ],
   "source": [
    "df_ex.head()"
   ]
  },
  {
   "cell_type": "code",
   "execution_count": 137,
   "metadata": {
    "ExecuteTime": {
     "end_time": "2018-06-26T00:04:18.409042Z",
     "start_time": "2018-06-26T00:04:18.397196Z"
    }
   },
   "outputs": [
    {
     "data": {
      "text/plain": [
       "prefix\n",
       "A4                 7\n",
       "A5                21\n",
       "AS                 1\n",
       "C                  5\n",
       "CA                41\n",
       "CASOTON            1\n",
       "FC                 1\n",
       "FCC                5\n",
       "Fa                 1\n",
       "LINE               4\n",
       "PC                60\n",
       "PP                 3\n",
       "PPP                2\n",
       "SC                 1\n",
       "SCA4               1\n",
       "SCAH               3\n",
       "SCOW               1\n",
       "SCPARIS            7\n",
       "SCParis            4\n",
       "SOC                6\n",
       "SOP                1\n",
       "SOPP               3\n",
       "SOTONO2            2\n",
       "SOTONOQ           15\n",
       "SP                 1\n",
       "STONO             12\n",
       "STONO2             6\n",
       "SWPP               2\n",
       "WC                10\n",
       "WEP                3\n",
       "missing_value    661\n",
       "Name: Survived, dtype: int64"
      ]
     },
     "execution_count": 137,
     "metadata": {},
     "output_type": "execute_result"
    }
   ],
   "source": [
    "df_ex.groupby('prefix').count()['Survived']"
   ]
  },
  {
   "cell_type": "code",
   "execution_count": 138,
   "metadata": {
    "ExecuteTime": {
     "end_time": "2018-06-26T00:04:18.745744Z",
     "start_time": "2018-06-26T00:04:18.411358Z"
    }
   },
   "outputs": [
    {
     "data": {
      "image/png": "[encoded data removed]",
      "text/plain": [
       "<matplotlib.figure.Figure at 0x10dbf6cf8>"
      ]
     },
     "metadata": {},
     "output_type": "display_data"
    }
   ],
   "source": [
    "plt.bar(df_ex.groupby('prefix').mean()['Survived'].index, df_ex.groupby('prefix').mean()['Survived'].values)\n",
    "plt.xticks(rotation='vertical')\n",
    "plt.show()"
   ]
  },
  {
   "cell_type": "markdown",
   "metadata": {},
   "source": [
    "So, the prefix seems to be a good predictor of the survival of people. However, there are many labels. Let's group some labels together using k-means clustering algorithm using the Survival mean and the number of people per label to make the grouping. We'll group in 3 labels. "
   ]
  },
  {
   "cell_type": "code",
   "execution_count": 139,
   "metadata": {
    "ExecuteTime": {
     "end_time": "2018-06-26T00:04:19.183017Z",
     "start_time": "2018-06-26T00:04:18.747914Z"
    }
   },
   "outputs": [
    {
     "data": {
      "image/png": "[encoded data removed]",
      "text/plain": [
       "<matplotlib.figure.Figure at 0x10d710cf8>"
      ]
     },
     "metadata": {},
     "output_type": "display_data"
    },
    {
     "name": "stdout",
     "output_type": "stream",
     "text": [
      "                      X         Y  label\n",
      "prefix                                  \n",
      "A4            -0.982387 -0.187279      2\n",
      "A5            -0.671617 -0.066687      2\n",
      "AS            -0.982387 -0.238961      2\n",
      "C              0.322849 -0.204506      0\n",
      "CA             0.131839  0.105587      0\n",
      "CASOTON       -0.982387 -0.238961      2\n",
      "FC            -0.982387 -0.238961      2\n",
      "FCC            1.628085 -0.204506      0\n",
      "Fa            -0.982387 -0.238961      2\n",
      "LINE          -0.166615 -0.213120      2\n",
      "PC             1.138622  0.269248      0\n",
      "PP             1.193006 -0.221734      0\n",
      "PPP            0.649158 -0.230347      0\n",
      "SC             2.280703 -0.238961      0\n",
      "SCA4          -0.982387 -0.238961      2\n",
      "SCAH           1.193006 -0.221734      0\n",
      "SCOW          -0.982387 -0.238961      2\n",
      "SCPARIS        0.416080 -0.187279      0\n",
      "SCParis        0.649158 -0.213120      0\n",
      "SOC           -0.438539 -0.195893      2\n",
      "SOP           -0.982387 -0.238961      2\n",
      "SOPP          -0.982387 -0.221734      2\n",
      "SOTONO2       -0.982387 -0.230347      2\n",
      "SOTONOQ       -0.547309 -0.118369      2\n",
      "SP            -0.982387 -0.238961      2\n",
      "STONO          0.377234 -0.144210      0\n",
      "STONO2         0.649158 -0.195893      0\n",
      "SWPP           2.280703 -0.230347      0\n",
      "WC            -0.656078 -0.161438      2\n",
      "WEP            0.105310 -0.221734      0\n",
      "missing_value  0.271508  5.446090      1\n"
     ]
    },
    {
     "data": {
      "image/png": "[encoded data removed]",
      "text/plain": [
       "<matplotlib.figure.Figure at 0x10ef59e10>"
      ]
     },
     "metadata": {},
     "output_type": "display_data"
    }
   ],
   "source": [
    "#mean per label\n",
    "X = df_ex.groupby('prefix').mean()['Survived']\n",
    "# count per label\n",
    "Y = df_ex.groupby('prefix').count()['Survived']\n",
    "\n",
    "#normalization \n",
    "X = (X - np.mean(X))/np.std(X)\n",
    "Y = (Y - np.mean(Y))/np.std(Y)\n",
    "\n",
    "array = np.array([[X[i], Y[i]] for i in range(len(X))])\n",
    "plt.plot(X,Y, 'ro')\n",
    "plt.show()\n",
    "\n",
    "#k-means clustering \n",
    "kmeans = KMeans(n_clusters=3, random_state=0).fit(array)\n",
    "df_clusters = pd.DataFrame(array, columns = ['X', 'Y'])\n",
    "df_clusters['label'] = kmeans.labels_\n",
    "df_clusters.index = df_ex.groupby('prefix').mean().index\n",
    "print(df_clusters)\n",
    "\n",
    "#group plotting \n",
    "\n",
    "for i in range(len(df_clusters)):\n",
    "    point = [df_clusters.X.iloc[i], df_clusters.Y.iloc[i]]\n",
    "    if df_clusters.label.iloc[i] == 0:\n",
    "        plt.plot(point[0], point[1], 'bs')\n",
    "    elif df_clusters.label.iloc[i] == 1:\n",
    "        plt.plot(point[0], point[1], 'ro')\n",
    "    elif df_clusters.label.iloc[i] == 2:\n",
    "        plt.plot(point[0], point[1], 'g^')\n",
    "plt.show()"
   ]
  },
  {
   "cell_type": "code",
   "execution_count": 140,
   "metadata": {
    "ExecuteTime": {
     "end_time": "2018-06-26T00:04:19.211644Z",
     "start_time": "2018-06-26T00:04:19.185387Z"
    },
    "scrolled": true
   },
   "outputs": [
    {
     "data": {
      "text/html": [
       "<div>\n",
       "<style scoped>\n",
       "    .dataframe tbody tr th:only-of-type {\n",
       "        vertical-align: middle;\n",
       "    }\n",
       "\n",
       "    .dataframe tbody tr th {\n",
       "        vertical-align: top;\n",
       "    }\n",
       "\n",
       "    .dataframe thead th {\n",
       "        text-align: right;\n",
       "    }\n",
       "</style>\n",
       "<table border=\"1\" class=\"dataframe\">\n",
       "  <thead>\n",
       "    <tr style=\"text-align: right;\">\n",
       "      <th></th>\n",
       "      <th>Survived</th>\n",
       "    </tr>\n",
       "    <tr>\n",
       "      <th>prefix</th>\n",
       "      <th></th>\n",
       "    </tr>\n",
       "  </thead>\n",
       "  <tbody>\n",
       "    <tr>\n",
       "      <th>Prefix_0</th>\n",
       "      <td>0.525974</td>\n",
       "    </tr>\n",
       "    <tr>\n",
       "      <th>Prefix_1</th>\n",
       "      <td>0.384266</td>\n",
       "    </tr>\n",
       "    <tr>\n",
       "      <th>Prefix_2</th>\n",
       "      <td>0.092105</td>\n",
       "    </tr>\n",
       "  </tbody>\n",
       "</table>\n",
       "</div>"
      ],
      "text/plain": [
       "          Survived\n",
       "prefix            \n",
       "Prefix_0  0.525974\n",
       "Prefix_1  0.384266\n",
       "Prefix_2  0.092105"
      ]
     },
     "execution_count": 140,
     "metadata": {},
     "output_type": "execute_result"
    }
   ],
   "source": [
    "mapping_dict = dict()\n",
    "\n",
    "list_cat = df_ex.groupby('prefix').mean().index\n",
    "list_label = kmeans.labels_\n",
    "\n",
    "for i in range(len(list_cat)):\n",
    "    mapping_dict[list_cat[i]] = list_label[i]\n",
    "mapping_dict\n",
    "mapping_dict_2 = {2:'Prefix_2', 1:'Prefix_1', 0:'Prefix_0'}\n",
    "\n",
    "#the second mapping converts into strings which let sklearn converts this variable into dummies later\n",
    "\n",
    "df_ex.prefix = df_ex.prefix.map(mapping_dict).map(mapping_dict_2)\n",
    "df_ex.groupby('prefix').mean()\n"
   ]
  },
  {
   "cell_type": "markdown",
   "metadata": {},
   "source": [
    "We can see that the average survival is well distinguished between the labels. "
   ]
  },
  {
   "cell_type": "code",
   "execution_count": 141,
   "metadata": {
    "ExecuteTime": {
     "end_time": "2018-06-26T00:04:19.253615Z",
     "start_time": "2018-06-26T00:04:19.213978Z"
    }
   },
   "outputs": [],
   "source": [
    "#operations on the real datasets\n",
    "\n",
    "\n",
    "df['prefix'] = df.apply(lambda x: get_prefix(x['Ticket']), axis=1)\n",
    "df.prefix = df.prefix.map(mapping_dict).map(mapping_dict_2)\n",
    "\n",
    "df_test['prefix'] = df_test.apply(lambda x: get_prefix(x['Ticket']), axis=1)\n",
    "df_test.prefix = df_test.prefix.map(mapping_dict).map(mapping_dict_2)\n",
    "\n",
    "df.drop('Ticket', axis = 1, inplace=True)\n",
    "df_test.drop('Ticket', axis = 1, inplace=True)"
   ]
  },
  {
   "cell_type": "markdown",
   "metadata": {
    "ExecuteTime": {
     "end_time": "2018-06-18T02:22:21.117747Z",
     "start_time": "2018-06-18T02:22:21.115126Z"
    }
   },
   "source": [
    "## Fare"
   ]
  },
  {
   "cell_type": "markdown",
   "metadata": {},
   "source": [
    "First of all, we remember, there was missing 1 fare data in the test set. Let's replace it. "
   ]
  },
  {
   "cell_type": "code",
   "execution_count": 142,
   "metadata": {
    "ExecuteTime": {
     "end_time": "2018-06-26T00:04:19.261918Z",
     "start_time": "2018-06-26T00:04:19.256202Z"
    },
    "scrolled": true
   },
   "outputs": [],
   "source": [
    "mean = df.Fare.mean()\n",
    "df_test.Fare = df_test.Fare.fillna(mean)"
   ]
  },
  {
   "cell_type": "code",
   "execution_count": 143,
   "metadata": {
    "ExecuteTime": {
     "end_time": "2018-06-26T00:04:19.275863Z",
     "start_time": "2018-06-26T00:04:19.265686Z"
    }
   },
   "outputs": [
    {
     "data": {
      "text/plain": [
       "Pclass          0\n",
       "Sex             0\n",
       "Age             0\n",
       "Fare            0\n",
       "Cabin         327\n",
       "Embarked        0\n",
       "Title           0\n",
       "FamilyType      0\n",
       "prefix          6\n",
       "dtype: int64"
      ]
     },
     "execution_count": 143,
     "metadata": {},
     "output_type": "execute_result"
    }
   ],
   "source": [
    "df_test.isnull().sum()"
   ]
  },
  {
   "cell_type": "code",
   "execution_count": 144,
   "metadata": {
    "ExecuteTime": {
     "end_time": "2018-06-26T00:04:19.561485Z",
     "start_time": "2018-06-26T00:04:19.278399Z"
    }
   },
   "outputs": [
    {
     "data": {
      "text/plain": [
       "<matplotlib.axes._subplots.AxesSubplot at 0x10eeb7710>"
      ]
     },
     "execution_count": 144,
     "metadata": {},
     "output_type": "execute_result"
    },
    {
     "data": {
      "image/png": "[encoded data removed]",
      "text/plain": [
       "<matplotlib.figure.Figure at 0x10eebe4a8>"
      ]
     },
     "metadata": {},
     "output_type": "display_data"
    }
   ],
   "source": [
    "sns.distplot(df.Fare)"
   ]
  },
  {
   "cell_type": "code",
   "execution_count": 145,
   "metadata": {
    "ExecuteTime": {
     "end_time": "2018-06-26T00:04:20.115562Z",
     "start_time": "2018-06-26T00:04:19.563660Z"
    }
   },
   "outputs": [
    {
     "name": "stdout",
     "output_type": "stream",
     "text": [
      "<seaborn.axisgrid.FacetGrid object at 0x10dfa9828>\n"
     ]
    },
    {
     "data": {
      "image/png": "[encoded data removed]",
      "text/plain": [
       "<matplotlib.figure.Figure at 0x10dd921d0>"
      ]
     },
     "metadata": {},
     "output_type": "display_data"
    }
   ],
   "source": [
    "num = sns.FacetGrid(df, col='Survived')\n",
    "print(num.map(plt.hist, 'Fare', bins=40))"
   ]
  },
  {
   "cell_type": "markdown",
   "metadata": {},
   "source": [
    "Low fare people are less likely to survive. So we should keep this feature. However, the distribution is skewed and we'll apply the [Box-Cox](https://docs.scipy.org/doc/scipy/reference/generated/scipy.stats.boxcox.html) transform to map the data to a Normal distribution. <br>"
   ]
  },
  {
   "cell_type": "code",
   "execution_count": 147,
   "metadata": {
    "ExecuteTime": {
     "end_time": "2018-06-26T00:04:20.446415Z",
     "start_time": "2018-06-26T00:04:20.126455Z"
    }
   },
   "outputs": [
    {
     "name": "stdout",
     "output_type": "stream",
     "text": [
      "Lambda: 0.225029\n"
     ]
    },
    {
     "data": {
      "image/png": "[encoded data removed]",
      "text/plain": [
       "<matplotlib.figure.Figure at 0x1a14b8e518>"
      ]
     },
     "metadata": {},
     "output_type": "display_data"
    },
    {
     "data": {
      "image/png": "[encoded data removed]",
      "text/plain": [
       "<matplotlib.figure.Figure at 0x10ef78320>"
      ]
     },
     "metadata": {},
     "output_type": "display_data"
    }
   ],
   "source": [
    "#we use the training dataset to estimate the box cox coefficient\n",
    "\n",
    "df['Fare2'], lam_fare = boxcox(df['Fare']+0.0001)\n",
    "print('Lambda: %f' % lam_fare)\n",
    "\n",
    "# histogram\n",
    "pyplot.hist(df['Fare'])\n",
    "pyplot.show()\n",
    "\n",
    "pyplot.hist(df['Fare'])\n",
    "pyplot.show()"
   ]
  },
  {
   "cell_type": "code",
   "execution_count": 148,
   "metadata": {
    "ExecuteTime": {
     "end_time": "2018-06-26T00:04:21.344980Z",
     "start_time": "2018-06-26T00:04:20.449222Z"
    }
   },
   "outputs": [
    {
     "name": "stdout",
     "output_type": "stream",
     "text": [
      "<seaborn.axisgrid.FacetGrid object at 0x10e37d208>\n",
      "<seaborn.axisgrid.FacetGrid object at 0x10dfa9828>\n"
     ]
    },
    {
     "data": {
      "image/png": "[encoded data removed]",
      "text/plain": [
       "<matplotlib.figure.Figure at 0x10d7a7208>"
      ]
     },
     "metadata": {},
     "output_type": "display_data"
    },
    {
     "data": {
      "image/png": "[encoded data removed]",
      "text/plain": [
       "<matplotlib.figure.Figure at 0x10e1b1940>"
      ]
     },
     "metadata": {},
     "output_type": "display_data"
    }
   ],
   "source": [
    "num = sns.FacetGrid(df, col='Survived')\n",
    "print(num.map(plt.hist, 'Fare', bins=40))\n",
    "num = sns.FacetGrid(df, col='Survived')\n",
    "print(num.map(plt.hist, 'Fare2', bins=40))\n",
    "df.drop(['Fare2'], axis=1, inplace= True)"
   ]
  },
  {
   "cell_type": "code",
   "execution_count": 149,
   "metadata": {
    "ExecuteTime": {
     "end_time": "2018-06-26T00:04:21.382945Z",
     "start_time": "2018-06-26T00:04:21.347841Z"
    },
    "scrolled": true
   },
   "outputs": [],
   "source": [
    "#here we apply the transformation to the 2 datasets.\n",
    "\n",
    "def get_transform(var):\n",
    "    return (var**lam_fare - 1) / lam_fare\n",
    "\n",
    "df['Fare'] = df.apply(lambda x: get_transform(x.Fare),axis=1)\n",
    "df_test['Fare'] = df_test.apply(lambda x: get_transform(x.Fare),axis=1)\n"
   ]
  },
  {
   "cell_type": "markdown",
   "metadata": {},
   "source": [
    "## Cabin\n",
    "\n",
    "As seen before, let's see if we can engineer some informations from this feature. "
   ]
  },
  {
   "cell_type": "code",
   "execution_count": 150,
   "metadata": {
    "ExecuteTime": {
     "end_time": "2018-06-26T00:04:21.392328Z",
     "start_time": "2018-06-26T00:04:21.385196Z"
    },
    "scrolled": true
   },
   "outputs": [
    {
     "data": {
      "text/plain": [
       "Index(['Survived', 'Pclass', 'Sex', 'Age', 'Fare', 'Cabin', 'Embarked',\n",
       "       'Title', 'FamilyType', 'prefix'],\n",
       "      dtype='object')"
      ]
     },
     "execution_count": 150,
     "metadata": {},
     "output_type": "execute_result"
    }
   ],
   "source": [
    "df_ex = df.copy()\n",
    "df_ex.columns"
   ]
  },
  {
   "cell_type": "markdown",
   "metadata": {},
   "source": [
    " "
   ]
  },
  {
   "cell_type": "code",
   "execution_count": 151,
   "metadata": {
    "ExecuteTime": {
     "end_time": "2018-06-26T00:04:21.527429Z",
     "start_time": "2018-06-26T00:04:21.397339Z"
    }
   },
   "outputs": [],
   "source": [
    "df_ex = df_ex[['Survived', 'Cabin']]\n",
    "\n",
    "def get_has_cabin(var):\n",
    "    \"\"\"\n",
    "    This function checks if a value is Null or not.\n",
    "    if yes, it means the passenger has no ticket information \n",
    "    if no, then it returns the letter of the ticket \n",
    "    \"\"\"\n",
    "    if var != var:\n",
    "        return 'missing_value'\n",
    "    else:\n",
    "        return var[0]\n",
    "\n",
    "df_ex['cabin_letter'] = df_ex.apply(lambda x: get_has_cabin(x['Cabin']), axis=1)"
   ]
  },
  {
   "cell_type": "code",
   "execution_count": 152,
   "metadata": {
    "ExecuteTime": {
     "end_time": "2018-06-26T00:04:21.543606Z",
     "start_time": "2018-06-26T00:04:21.530668Z"
    }
   },
   "outputs": [
    {
     "data": {
      "text/html": [
       "<div>\n",
       "<style scoped>\n",
       "    .dataframe tbody tr th:only-of-type {\n",
       "        vertical-align: middle;\n",
       "    }\n",
       "\n",
       "    .dataframe tbody tr th {\n",
       "        vertical-align: top;\n",
       "    }\n",
       "\n",
       "    .dataframe thead th {\n",
       "        text-align: right;\n",
       "    }\n",
       "</style>\n",
       "<table border=\"1\" class=\"dataframe\">\n",
       "  <thead>\n",
       "    <tr style=\"text-align: right;\">\n",
       "      <th></th>\n",
       "      <th>Survived</th>\n",
       "    </tr>\n",
       "    <tr>\n",
       "      <th>cabin_letter</th>\n",
       "      <th></th>\n",
       "    </tr>\n",
       "  </thead>\n",
       "  <tbody>\n",
       "    <tr>\n",
       "      <th>A</th>\n",
       "      <td>0.466667</td>\n",
       "    </tr>\n",
       "    <tr>\n",
       "      <th>B</th>\n",
       "      <td>0.744681</td>\n",
       "    </tr>\n",
       "    <tr>\n",
       "      <th>C</th>\n",
       "      <td>0.593220</td>\n",
       "    </tr>\n",
       "    <tr>\n",
       "      <th>D</th>\n",
       "      <td>0.757576</td>\n",
       "    </tr>\n",
       "    <tr>\n",
       "      <th>E</th>\n",
       "      <td>0.750000</td>\n",
       "    </tr>\n",
       "    <tr>\n",
       "      <th>F</th>\n",
       "      <td>0.615385</td>\n",
       "    </tr>\n",
       "    <tr>\n",
       "      <th>G</th>\n",
       "      <td>0.500000</td>\n",
       "    </tr>\n",
       "    <tr>\n",
       "      <th>T</th>\n",
       "      <td>0.000000</td>\n",
       "    </tr>\n",
       "    <tr>\n",
       "      <th>missing_value</th>\n",
       "      <td>0.299854</td>\n",
       "    </tr>\n",
       "  </tbody>\n",
       "</table>\n",
       "</div>"
      ],
      "text/plain": [
       "               Survived\n",
       "cabin_letter           \n",
       "A              0.466667\n",
       "B              0.744681\n",
       "C              0.593220\n",
       "D              0.757576\n",
       "E              0.750000\n",
       "F              0.615385\n",
       "G              0.500000\n",
       "T              0.000000\n",
       "missing_value  0.299854"
      ]
     },
     "execution_count": 152,
     "metadata": {},
     "output_type": "execute_result"
    }
   ],
   "source": [
    "df_ex.groupby('cabin_letter').mean()"
   ]
  },
  {
   "cell_type": "markdown",
   "metadata": {},
   "source": [
    "At a first glance, the type of cabin seems to bring information. The type of cabin has a lot of different survival rate. "
   ]
  },
  {
   "cell_type": "markdown",
   "metadata": {},
   "source": [
    "However, the number of category is important. Let's group the labels together. We can identify several groups."
   ]
  },
  {
   "cell_type": "markdown",
   "metadata": {},
   "source": [
    "To do so, we'll cluster the categories following the survival rate variable into 3 groups."
   ]
  },
  {
   "cell_type": "code",
   "execution_count": 153,
   "metadata": {
    "ExecuteTime": {
     "end_time": "2018-06-26T00:04:21.882887Z",
     "start_time": "2018-06-26T00:04:21.546515Z"
    }
   },
   "outputs": [
    {
     "data": {
      "image/png": "[encoded data removed]",
      "text/plain": [
       "<matplotlib.figure.Figure at 0x10e437400>"
      ]
     },
     "metadata": {},
     "output_type": "display_data"
    },
    {
     "name": "stdout",
     "output_type": "stream",
     "text": [
      "                      X         Y  label\n",
      "cabin_letter                            \n",
      "A             -0.249575 -0.402506      0\n",
      "B              0.934516 -0.249170      0\n",
      "C              0.289430 -0.191669      0\n",
      "D              0.989437 -0.316254      0\n",
      "E              0.957171 -0.321046      0\n",
      "F              0.383830 -0.412089      0\n",
      "G             -0.107605 -0.455215      0\n",
      "T             -2.237157 -0.469590      2\n",
      "missing_value -0.960046  2.817539      1\n"
     ]
    },
    {
     "data": {
      "image/png": "[encoded data removed]",
      "text/plain": [
       "<matplotlib.figure.Figure at 0x10dbea240>"
      ]
     },
     "metadata": {},
     "output_type": "display_data"
    }
   ],
   "source": [
    "X = df_ex.groupby('cabin_letter').mean()['Survived']\n",
    "Y = df_ex.groupby('cabin_letter').count()['Survived']\n",
    "\n",
    "#normalization \n",
    "X = (X - np.mean(X))/np.std(X)\n",
    "Y = (Y - np.mean(Y))/np.std(Y)\n",
    "\n",
    "array = np.array([[X[i], Y[i]] for i in range(len(X))])\n",
    "plt.plot(X,Y, 'ro')\n",
    "plt.show()\n",
    "kmeans = KMeans(n_clusters=3, random_state=0).fit(array)\n",
    "df_clusters = pd.DataFrame(array, columns = ['X', 'Y'])\n",
    "df_clusters['label'] = kmeans.labels_\n",
    "df_clusters.index = df_ex.groupby('cabin_letter').mean().index\n",
    "print(df_clusters)\n",
    "for i in range(len(df_clusters)):\n",
    "    point = [df_clusters.X.iloc[i], df_clusters.Y.iloc[i]]\n",
    "    if df_clusters.label.iloc[i] == 0:\n",
    "        plt.plot(point[0], point[1], 'bs')\n",
    "    elif df_clusters.label.iloc[i] == 1:\n",
    "        plt.plot(point[0], point[1], 'ro')\n",
    "    elif df_clusters.label.iloc[i] == 2:\n",
    "        plt.plot(point[0], point[1], 'g^')\n",
    "plt.show()\n"
   ]
  },
  {
   "cell_type": "markdown",
   "metadata": {
    "ExecuteTime": {
     "end_time": "2018-06-23T16:11:40.184094Z",
     "start_time": "2018-06-23T16:11:40.176861Z"
    }
   },
   "source": [
    "The labels are converted into 3 labels. Let's define the mapping dictionnary to use later in order to engineer this feature."
   ]
  },
  {
   "cell_type": "code",
   "execution_count": 154,
   "metadata": {
    "ExecuteTime": {
     "end_time": "2018-06-26T00:04:21.917969Z",
     "start_time": "2018-06-26T00:04:21.885639Z"
    },
    "scrolled": true
   },
   "outputs": [
    {
     "data": {
      "text/html": [
       "<div>\n",
       "<style scoped>\n",
       "    .dataframe tbody tr th:only-of-type {\n",
       "        vertical-align: middle;\n",
       "    }\n",
       "\n",
       "    .dataframe tbody tr th {\n",
       "        vertical-align: top;\n",
       "    }\n",
       "\n",
       "    .dataframe thead th {\n",
       "        text-align: right;\n",
       "    }\n",
       "</style>\n",
       "<table border=\"1\" class=\"dataframe\">\n",
       "  <thead>\n",
       "    <tr style=\"text-align: right;\">\n",
       "      <th></th>\n",
       "      <th>Survived</th>\n",
       "    </tr>\n",
       "    <tr>\n",
       "      <th>cabin_letter</th>\n",
       "      <th></th>\n",
       "    </tr>\n",
       "  </thead>\n",
       "  <tbody>\n",
       "    <tr>\n",
       "      <th>Cab_0</th>\n",
       "      <td>0.669951</td>\n",
       "    </tr>\n",
       "    <tr>\n",
       "      <th>Cab_1</th>\n",
       "      <td>0.299854</td>\n",
       "    </tr>\n",
       "    <tr>\n",
       "      <th>Cab_2</th>\n",
       "      <td>0.000000</td>\n",
       "    </tr>\n",
       "  </tbody>\n",
       "</table>\n",
       "</div>"
      ],
      "text/plain": [
       "              Survived\n",
       "cabin_letter          \n",
       "Cab_0         0.669951\n",
       "Cab_1         0.299854\n",
       "Cab_2         0.000000"
      ]
     },
     "execution_count": 154,
     "metadata": {},
     "output_type": "execute_result"
    }
   ],
   "source": [
    "mapping_dict = dict()\n",
    "\n",
    "list_cat = df_ex.groupby('cabin_letter').mean().index\n",
    "list_label = kmeans.labels_\n",
    "\n",
    "for i in range(len(list_cat)):\n",
    "    mapping_dict[list_cat[i]] = list_label[i]\n",
    "mapping_dict\n",
    "mapping_dict_2 = {2:'Cab_2', 1:'Cab_1', 0:'Cab_0'}\n",
    "\n",
    "#the second mapping converts into strings which let sklearn converts this variable into dummies later\n",
    "\n",
    "df_ex.cabin_letter = df_ex.cabin_letter.map(mapping_dict).map(mapping_dict_2)\n",
    "df_ex.groupby('cabin_letter').mean()\n"
   ]
  },
  {
   "cell_type": "code",
   "execution_count": 155,
   "metadata": {
    "ExecuteTime": {
     "end_time": "2018-06-26T00:04:21.962316Z",
     "start_time": "2018-06-26T00:04:21.921140Z"
    }
   },
   "outputs": [],
   "source": [
    "df['cabin_letter'] = df.apply(lambda x: get_has_cabin(x['Cabin']), axis=1)\n",
    "df.cabin_letter = df.cabin_letter.map(mapping_dict).map(mapping_dict_2)\n",
    "\n",
    "df_test['cabin_letter'] = df_test.apply(lambda x: get_has_cabin(x['Cabin']), axis=1)\n",
    "df_test.cabin_letter = df_test.cabin_letter.map(mapping_dict).map(mapping_dict_2)\n",
    "\n",
    "df.drop('Cabin', axis=1, inplace = True)\n",
    "df_test.drop('Cabin', axis=1, inplace = True)"
   ]
  },
  {
   "cell_type": "markdown",
   "metadata": {},
   "source": [
    "## Embarked"
   ]
  },
  {
   "cell_type": "markdown",
   "metadata": {},
   "source": [
    "As seen before, we'll use  [one-hot encoding](https://fr.wikipedia.org/wiki/Encodage_one-hot)."
   ]
  },
  {
   "cell_type": "markdown",
   "metadata": {
    "ExecuteTime": {
     "end_time": "2018-06-17T17:43:41.687075Z",
     "start_time": "2018-06-17T17:43:41.684604Z"
    }
   },
   "source": [
    "## One hot-encoding"
   ]
  },
  {
   "cell_type": "markdown",
   "metadata": {},
   "source": [
    "Then we need to encode this feature using [one-hot encoding](https://fr.wikipedia.org/wiki/Encodage_one-hot). Indeed, there is no assumed order between the different categories. We drop first column to avoid \"statistically/informationally redundant\" information. "
   ]
  },
  {
   "cell_type": "code",
   "execution_count": 156,
   "metadata": {
    "ExecuteTime": {
     "end_time": "2018-06-26T00:04:21.988067Z",
     "start_time": "2018-06-26T00:04:21.964789Z"
    }
   },
   "outputs": [],
   "source": [
    "df = pd.get_dummies(df, prefix = 'cat', drop_first=True)\n",
    "df_test = pd.get_dummies(df_test, prefix = 'cat', drop_first=True)\n"
   ]
  },
  {
   "cell_type": "markdown",
   "metadata": {},
   "source": [
    "# Model"
   ]
  },
  {
   "cell_type": "code",
   "execution_count": 226,
   "metadata": {
    "ExecuteTime": {
     "end_time": "2018-07-03T23:00:26.498881Z",
     "start_time": "2018-07-03T23:00:26.352901Z"
    }
   },
   "outputs": [],
   "source": [
    "#preparation of the data\n",
    "\n",
    "Y_train = df['Survived']\n",
    "X_train = df.drop('Survived', axis=1)\n",
    "\n",
    "\n",
    "X_test = df_test"
   ]
  },
  {
   "cell_type": "markdown",
   "metadata": {},
   "source": [
    "## Selection of the best models"
   ]
  },
  {
   "cell_type": "markdown",
   "metadata": {},
   "source": [
    "I will compare different algorithm using [k-fold cross validation](https://en.wikipedia.org/wiki/Cross-validation_(statistics)). <br>\n",
    "K-fold is important here (in the case of a small dataset) because it enables us to train/test the model 10 times and then we can reduce the chance of over-fitting or even luck.\n",
    "The models tried for this bi-label classification problem will be:\n",
    "- Logistic Regression\n",
    "- Decision Tree\n",
    "- Random Forest\n",
    "- SVM\n",
    "- ExtraTree\n",
    "- Gradient Boosting\n",
    "- AdaBoost\n",
    "- KNN \n",
    "- XGBoost"
   ]
  },
  {
   "cell_type": "code",
   "execution_count": 158,
   "metadata": {
    "ExecuteTime": {
     "end_time": "2018-06-26T00:04:22.012859Z",
     "start_time": "2018-06-26T00:04:22.005145Z"
    }
   },
   "outputs": [],
   "source": [
    "from sklearn.neural_network import MLPClassifier\n",
    "\n",
    "from xgboost import XGBClassifier\n",
    "\n",
    "from sklearn.discriminant_analysis import LinearDiscriminantAnalysis\n",
    "from sklearn.discriminant_analysis import QuadraticDiscriminantAnalysis\n",
    "\n",
    "\n",
    "from sklearn.svm import SVC, LinearSVC, NuSVC"
   ]
  },
  {
   "cell_type": "code",
   "execution_count": 229,
   "metadata": {
    "ExecuteTime": {
     "end_time": "2018-07-03T23:24:46.955288Z",
     "start_time": "2018-07-03T23:24:46.928273Z"
    }
   },
   "outputs": [],
   "source": [
    "models = list()\n",
    "\n",
    "\n",
    "#here is the list of the models we'll try \n",
    "\n",
    "models.append(LogisticRegression())\n",
    "models.append(DecisionTreeClassifier())\n",
    "models.append(RandomForestClassifier())\n",
    "models.append(SVC())\n",
    "models.append(ExtraTreesClassifier())\n",
    "models.append(GradientBoostingClassifier())\n",
    "models.append(AdaBoostClassifier(DecisionTreeClassifier(),learning_rate=0.1))\n",
    "models.append(KNeighborsClassifier())\n",
    "models.append(XGBClassifier())\n",
    "\n",
    "\n",
    "\n"
   ]
  },
  {
   "cell_type": "code",
   "execution_count": 230,
   "metadata": {
    "ExecuteTime": {
     "end_time": "2018-07-03T23:24:51.349482Z",
     "start_time": "2018-07-03T23:24:51.338538Z"
    }
   },
   "outputs": [],
   "source": [
    "# Cross validate model with Kfold stratified cross val\n",
    "kfold = StratifiedKFold(n_splits=10)"
   ]
  },
  {
   "cell_type": "code",
   "execution_count": 235,
   "metadata": {
    "ExecuteTime": {
     "end_time": "2018-07-03T23:47:47.148215Z",
     "start_time": "2018-07-03T23:47:43.145379Z"
    },
    "scrolled": false
   },
   "outputs": [
    {
     "data": {
      "image/png": "[encoded data removed]",
      "text/plain": [
       "<matplotlib.figure.Figure at 0x10f132390>"
      ]
     },
     "metadata": {},
     "output_type": "display_data"
    }
   ],
   "source": [
    "cv_results = []\n",
    "cv_names = []\n",
    "\n",
    "for model in models :\n",
    "    #print('go:', model)\n",
    "    cv_results.append(cross_val_score(model, X_train, y = Y_train, scoring = \"accuracy\", cv = kfold, n_jobs=4))\n",
    "    cv_names.append(model.__class__.__name__)\n",
    "    #print('end:', model)\n",
    "\n",
    "cv_means = []\n",
    "cv_std = []\n",
    "\n",
    "for cv_result in cv_results:\n",
    "    cv_means.append(cv_result.mean())\n",
    "    cv_std.append(cv_result.std())\n",
    "    \n",
    "\n",
    "cv_res = pd.DataFrame({\"CrossValMeans\":cv_means,\"CrossValerrors\": cv_std,\"Algorithm\":cv_names})\n",
    "\n",
    "g = sns.barplot(\"CrossValMeans\",\"Algorithm\",data = cv_res,orient = \"h\",**{'xerr':cv_std})\n",
    "g.set_xlabel(\"Average Accuracy\")\n",
    "g = g.set_title(\"K-fold Cross validation average accuracy\")\n",
    "\n",
    "\n",
    "\n",
    "    "
   ]
  },
  {
   "cell_type": "markdown",
   "metadata": {},
   "source": [
    "The different algorithm performs differently. We need to look at the average, but also at the standard deviation of the accuracy of these algorithms. Indeed, we want our model to perform well on average, but we don't want it to perform really poorly sometimes or really greatly on other times. <br>\n",
    "I decided to use a hand-crafted criterion in order to take into account both average and deviation. The criterion is defined as the average minus the half of the deviation. So we take the algorithm with the best accuracy modulated by a not to big deviation. "
   ]
  },
  {
   "cell_type": "code",
   "execution_count": 232,
   "metadata": {
    "ExecuteTime": {
     "end_time": "2018-07-03T23:24:56.970952Z",
     "start_time": "2018-07-03T23:24:56.961766Z"
    }
   },
   "outputs": [],
   "source": [
    "cv_res['criterion'] = cv_res.CrossValMeans - cv_res.CrossValerrors/2"
   ]
  },
  {
   "cell_type": "code",
   "execution_count": 233,
   "metadata": {
    "ExecuteTime": {
     "end_time": "2018-07-03T23:24:57.216823Z",
     "start_time": "2018-07-03T23:24:57.195304Z"
    },
    "scrolled": true
   },
   "outputs": [
    {
     "data": {
      "text/html": [
       "<div>\n",
       "<style scoped>\n",
       "    .dataframe tbody tr th:only-of-type {\n",
       "        vertical-align: middle;\n",
       "    }\n",
       "\n",
       "    .dataframe tbody tr th {\n",
       "        vertical-align: top;\n",
       "    }\n",
       "\n",
       "    .dataframe thead th {\n",
       "        text-align: right;\n",
       "    }\n",
       "</style>\n",
       "<table border=\"1\" class=\"dataframe\">\n",
       "  <thead>\n",
       "    <tr style=\"text-align: right;\">\n",
       "      <th></th>\n",
       "      <th>Algorithm</th>\n",
       "      <th>CrossValMeans</th>\n",
       "      <th>CrossValerrors</th>\n",
       "      <th>criterion</th>\n",
       "    </tr>\n",
       "  </thead>\n",
       "  <tbody>\n",
       "    <tr>\n",
       "      <th>5</th>\n",
       "      <td>GradientBoostingClassifier</td>\n",
       "      <td>0.833942</td>\n",
       "      <td>0.038665</td>\n",
       "      <td>0.814609</td>\n",
       "    </tr>\n",
       "    <tr>\n",
       "      <th>0</th>\n",
       "      <td>LogisticRegression</td>\n",
       "      <td>0.829422</td>\n",
       "      <td>0.030354</td>\n",
       "      <td>0.814245</td>\n",
       "    </tr>\n",
       "    <tr>\n",
       "      <th>8</th>\n",
       "      <td>XGBClassifier</td>\n",
       "      <td>0.830583</td>\n",
       "      <td>0.035411</td>\n",
       "      <td>0.812877</td>\n",
       "    </tr>\n",
       "    <tr>\n",
       "      <th>2</th>\n",
       "      <td>RandomForestClassifier</td>\n",
       "      <td>0.820470</td>\n",
       "      <td>0.023704</td>\n",
       "      <td>0.808618</td>\n",
       "    </tr>\n",
       "    <tr>\n",
       "      <th>3</th>\n",
       "      <td>SVC</td>\n",
       "      <td>0.821569</td>\n",
       "      <td>0.036976</td>\n",
       "      <td>0.803081</td>\n",
       "    </tr>\n",
       "    <tr>\n",
       "      <th>6</th>\n",
       "      <td>AdaBoostClassifier</td>\n",
       "      <td>0.819296</td>\n",
       "      <td>0.039934</td>\n",
       "      <td>0.799329</td>\n",
       "    </tr>\n",
       "    <tr>\n",
       "      <th>4</th>\n",
       "      <td>ExtraTreesClassifier</td>\n",
       "      <td>0.812567</td>\n",
       "      <td>0.034366</td>\n",
       "      <td>0.795384</td>\n",
       "    </tr>\n",
       "    <tr>\n",
       "      <th>7</th>\n",
       "      <td>KNeighborsClassifier</td>\n",
       "      <td>0.807049</td>\n",
       "      <td>0.029745</td>\n",
       "      <td>0.792177</td>\n",
       "    </tr>\n",
       "    <tr>\n",
       "      <th>1</th>\n",
       "      <td>DecisionTreeClassifier</td>\n",
       "      <td>0.783352</td>\n",
       "      <td>0.034692</td>\n",
       "      <td>0.766006</td>\n",
       "    </tr>\n",
       "  </tbody>\n",
       "</table>\n",
       "</div>"
      ],
      "text/plain": [
       "                    Algorithm  CrossValMeans  CrossValerrors  criterion\n",
       "5  GradientBoostingClassifier       0.833942        0.038665   0.814609\n",
       "0          LogisticRegression       0.829422        0.030354   0.814245\n",
       "8               XGBClassifier       0.830583        0.035411   0.812877\n",
       "2      RandomForestClassifier       0.820470        0.023704   0.808618\n",
       "3                         SVC       0.821569        0.036976   0.803081\n",
       "6          AdaBoostClassifier       0.819296        0.039934   0.799329\n",
       "4        ExtraTreesClassifier       0.812567        0.034366   0.795384\n",
       "7        KNeighborsClassifier       0.807049        0.029745   0.792177\n",
       "1      DecisionTreeClassifier       0.783352        0.034692   0.766006"
      ]
     },
     "execution_count": 233,
     "metadata": {},
     "output_type": "execute_result"
    }
   ],
   "source": [
    "cv_res.sort_values(by='criterion', ascending=False)"
   ]
  },
  {
   "cell_type": "markdown",
   "metadata": {},
   "source": [
    "Gradient Boosting produces the best outcome in terms of criterion. We can directly use it to produce the submission file. <br>\n",
    "Or we can decide to use different models and ensemble the results in order to produce a better outcome: this method is so-called 'Ensemble modeling'.<br>\n",
    "To select the best ones, I use a criterion which is the mean of the accuracy minus the half of the standard deviation of the accuracy. <br>\n",
    "But first, let's select the 5 best algorithms in order to perform hyper-parameters optimization:\n",
    "- LogisticRegression\n",
    "- GradientBoosting\n",
    "- XGBoost\n",
    "- SVM\n",
    "- RandomForest\t"
   ]
  },
  {
   "cell_type": "markdown",
   "metadata": {},
   "source": [
    "## Hyper-parameter optimization"
   ]
  },
  {
   "cell_type": "markdown",
   "metadata": {},
   "source": [
    "In this part, I try to improve the accuracy of the selected classifiers by hyper-parameters optimization. To do so, I use a Scikit-Learn implemented tool in order to perform a grid search. "
   ]
  },
  {
   "cell_type": "markdown",
   "metadata": {},
   "source": [
    "Watch-out: This is a long process, you can use multi-cpu to speed-up the computation."
   ]
  },
  {
   "cell_type": "code",
   "execution_count": 165,
   "metadata": {
    "ExecuteTime": {
     "end_time": "2018-06-26T00:04:41.955166Z",
     "start_time": "2018-06-26T00:04:27.037839Z"
    },
    "scrolled": true
   },
   "outputs": [
    {
     "name": "stdout",
     "output_type": "stream",
     "text": [
      "Fitting 10 folds for each of 200 candidates, totalling 2000 fits\n"
     ]
    },
    {
     "name": "stderr",
     "output_type": "stream",
     "text": [
      "[Parallel(n_jobs=4)]: Done 1024 tasks      | elapsed:    3.0s\n"
     ]
    },
    {
     "name": "stdout",
     "output_type": "stream",
     "text": [
      "Best Penalty: l2\n",
      "Best C: 12.91549665014884\n"
     ]
    },
    {
     "name": "stderr",
     "output_type": "stream",
     "text": [
      "[Parallel(n_jobs=4)]: Done 2000 out of 2000 | elapsed:   14.7s finished\n"
     ]
    },
    {
     "data": {
      "text/plain": [
       "0.8338945005611672"
      ]
     },
     "execution_count": 165,
     "metadata": {},
     "output_type": "execute_result"
    }
   ],
   "source": [
    "# Logistic Regression Parameters tunning\n",
    "LR = LogisticRegression( )\n",
    "\n",
    "# Create regularization penalty space\n",
    "penalty = ['l1', 'l2']\n",
    "\n",
    "# Create regularization hyperparameter space\n",
    "C = np.logspace(-2, 2, 100)\n",
    "\n",
    "\n",
    "lr_param_grid = {'penalty': penalty, 'C': C }\n",
    "\n",
    "clf = GridSearchCV(LogisticRegression(), lr_param_grid)\n",
    "\n",
    "gsLR = GridSearchCV(LR,param_grid = lr_param_grid, cv=kfold, scoring=\"accuracy\", n_jobs= 4, verbose = 1)\n",
    "\n",
    "gsLR.fit(X_train,Y_train)\n",
    "\n",
    "LR_best = gsLR.best_estimator_\n",
    "\n",
    "# View best hyperparameters\n",
    "print('Best Penalty:', LR_best.get_params()['penalty'])\n",
    "print('Best C:', LR_best.get_params()['C'])\n",
    "\n",
    "# Best score\n",
    "gsLR.best_score_"
   ]
  },
  {
   "cell_type": "code",
   "execution_count": 166,
   "metadata": {
    "ExecuteTime": {
     "end_time": "2018-06-26T01:12:49.670312Z",
     "start_time": "2018-06-26T00:04:41.959056Z"
    },
    "scrolled": true
   },
   "outputs": [
    {
     "name": "stdout",
     "output_type": "stream",
     "text": [
      "Fitting 10 folds for each of 384 candidates, totalling 3840 fits\n"
     ]
    },
    {
     "name": "stderr",
     "output_type": "stream",
     "text": [
      "[Parallel(n_jobs=4)]: Done  42 tasks      | elapsed:   34.1s\n",
      "[Parallel(n_jobs=4)]: Done 192 tasks      | elapsed:  3.4min\n",
      "[Parallel(n_jobs=4)]: Done 442 tasks      | elapsed:  5.9min\n",
      "[Parallel(n_jobs=4)]: Done 792 tasks      | elapsed: 10.4min\n",
      "[Parallel(n_jobs=4)]: Done 1242 tasks      | elapsed: 14.2min\n",
      "[Parallel(n_jobs=4)]: Done 1792 tasks      | elapsed: 20.4min\n",
      "[Parallel(n_jobs=4)]: Done 2442 tasks      | elapsed: 27.9min\n",
      "[Parallel(n_jobs=4)]: Done 3192 tasks      | elapsed: 48.4min\n",
      "[Parallel(n_jobs=4)]: Done 3840 out of 3840 | elapsed: 68.1min finished\n"
     ]
    },
    {
     "name": "stdout",
     "output_type": "stream",
     "text": [
      "{'bootstrap': False, 'class_weight': None, 'criterion': 'gini', 'max_depth': 5, 'max_features': 'auto', 'max_leaf_nodes': None, 'min_impurity_decrease': 0.0, 'min_impurity_split': None, 'min_samples_leaf': 2, 'min_samples_split': 10, 'min_weight_fraction_leaf': 0.0, 'n_estimators': 200, 'n_jobs': 1, 'oob_score': False, 'random_state': None, 'verbose': 0, 'warm_start': False}\n"
     ]
    },
    {
     "data": {
      "text/plain": [
       "0.8395061728395061"
      ]
     },
     "execution_count": 166,
     "metadata": {},
     "output_type": "execute_result"
    }
   ],
   "source": [
    "# RFC Parameters tunning \n",
    "RFC = RandomForestClassifier()\n",
    "\n",
    "\n",
    "# Number of trees in random forest\n",
    "n_estimators = [int(x) for x in np.linspace(start = 200, stop = 1400, num = 4)]\n",
    "# Number of features to consider at every split\n",
    "max_features = ['auto', 'sqrt']\n",
    "# Maximum number of levels in tree\n",
    "max_depth = [int(x) for x in np.linspace(1, 20, num = 5)]\n",
    "max_depth.append(None)\n",
    "# Minimum number of samples required to split a node\n",
    "min_samples_split = [ 5, 10]\n",
    "# Minimum number of samples required at each leaf node\n",
    "min_samples_leaf = [ 2, 4]\n",
    "# Method of selecting samples for training each tree\n",
    "bootstrap = [True, False]\n",
    "\n",
    "## Search grid for optimal parameters\n",
    "rf_param_grid = {\"max_depth\": max_depth,\n",
    "              \"max_features\": max_features,\n",
    "              \"min_samples_split\": min_samples_split,\n",
    "              \"min_samples_leaf\": min_samples_leaf,\n",
    "              \"bootstrap\": bootstrap,\n",
    "              \"n_estimators\" :n_estimators,\n",
    "              \"criterion\": [\"gini\"]}\n",
    "\n",
    "\n",
    "gsRFC = GridSearchCV(RFC,param_grid = rf_param_grid, cv=kfold, scoring=\"accuracy\", n_jobs= 4, verbose = 1)\n",
    "\n",
    "gsRFC.fit(X_train,Y_train)\n",
    "\n",
    "RFC_best = gsRFC.best_estimator_\n",
    "\n",
    "print(RFC_best.get_params())\n",
    "\n",
    "\n",
    "# Best score\n",
    "gsRFC.best_score_"
   ]
  },
  {
   "cell_type": "code",
   "execution_count": 175,
   "metadata": {
    "ExecuteTime": {
     "end_time": "2018-06-26T02:51:52.777399Z",
     "start_time": "2018-06-26T02:25:56.279096Z"
    }
   },
   "outputs": [
    {
     "name": "stdout",
     "output_type": "stream",
     "text": [
      "Fitting 10 folds for each of 3840 candidates, totalling 38400 fits\n"
     ]
    },
    {
     "name": "stderr",
     "output_type": "stream",
     "text": [
      "[Parallel(n_jobs=4)]: Done 512 tasks      | elapsed:   11.9s\n",
      "[Parallel(n_jobs=4)]: Done 1192 tasks      | elapsed:   29.2s\n",
      "[Parallel(n_jobs=4)]: Done 1837 tasks      | elapsed:  1.0min\n",
      "[Parallel(n_jobs=4)]: Done 2841 tasks      | elapsed:  1.8min\n",
      "[Parallel(n_jobs=4)]: Done 4277 tasks      | elapsed:  2.8min\n",
      "[Parallel(n_jobs=4)]: Done 5809 tasks      | elapsed:  4.0min\n",
      "[Parallel(n_jobs=4)]: Done 7300 tasks      | elapsed:  5.4min\n",
      "[Parallel(n_jobs=4)]: Done 9187 tasks      | elapsed:  6.8min\n",
      "[Parallel(n_jobs=4)]: Done 11994 tasks      | elapsed:  9.0min\n",
      "[Parallel(n_jobs=4)]: Done 14541 tasks      | elapsed: 11.0min\n",
      "[Parallel(n_jobs=4)]: Done 18228 tasks      | elapsed: 13.6min\n",
      "[Parallel(n_jobs=4)]: Done 21300 tasks      | elapsed: 16.0min\n",
      "[Parallel(n_jobs=4)]: Done 24420 tasks      | elapsed: 18.3min\n",
      "[Parallel(n_jobs=4)]: Done 28092 tasks      | elapsed: 21.2min\n",
      "[Parallel(n_jobs=4)]: Done 34032 tasks      | elapsed: 23.8min\n",
      "[Parallel(n_jobs=4)]: Done 38400 out of 38400 | elapsed: 25.9min finished\n"
     ]
    },
    {
     "name": "stdout",
     "output_type": "stream",
     "text": [
      "{'criterion': 'friedman_mse', 'init': None, 'learning_rate': 1, 'loss': 'deviance', 'max_depth': 18.714285714285715, 'max_features': 0.1, 'max_leaf_nodes': None, 'min_impurity_decrease': 0.0, 'min_impurity_split': None, 'min_samples_leaf': 0.1, 'min_samples_split': 2, 'min_weight_fraction_leaf': 0.0, 'n_estimators': 300, 'presort': 'auto', 'random_state': None, 'subsample': 1.0, 'verbose': 0, 'warm_start': False}\n"
     ]
    },
    {
     "data": {
      "text/plain": [
       "0.8451178451178452"
      ]
     },
     "execution_count": 175,
     "metadata": {},
     "output_type": "execute_result"
    }
   ],
   "source": [
    "# Gradient boosting tunning tttttt\n",
    "\n",
    "\n",
    "#shrinks the contribution of each tree by learning_rate.\n",
    "learning_rates = [1, 0.25, 0.1, 0.05, 0.01]\n",
    "#the number of trees in the forest\n",
    "n_estimators = [1, 2, 4,  32, 100, 150, 200,  300]\n",
    "# how deep the built tree can be\n",
    "max_depths = np.linspace(1, 32, 8, endpoint=True)\n",
    "\n",
    "#minimum number of samples required to be at a leaf node.\n",
    "min_samples_leafs =  np.linspace(0.1, 0.5, 4, endpoint=True)\n",
    "#represents the number of features to consider when looking for the best split\n",
    "max_features = [0.5, 0.3, 0.1]\n",
    "\n",
    "GBC = GradientBoostingClassifier()\n",
    "gb_param_grid = {'loss' : [\"deviance\"],\n",
    "              'n_estimators' : n_estimators,\n",
    "              'learning_rate': learning_rates,\n",
    "              'max_depth': max_depths,\n",
    "              'min_samples_leaf': min_samples_leafs,\n",
    "              'max_features': max_features\n",
    "              }\n",
    "\n",
    "gsGBC = GridSearchCV(GBC,param_grid = gb_param_grid, cv=kfold, scoring=\"accuracy\", n_jobs= 4, verbose = 1)\n",
    "\n",
    "gsGBC.fit(X_train,Y_train)\n",
    "\n",
    "GBC_best = gsGBC.best_estimator_\n",
    "\n",
    "print(GBC_best.get_params())\n",
    "\n",
    "\n",
    "# Best score\n",
    "gsGBC.best_score_"
   ]
  },
  {
   "cell_type": "code",
   "execution_count": 178,
   "metadata": {
    "ExecuteTime": {
     "end_time": "2018-06-26T02:57:08.869520Z",
     "start_time": "2018-06-26T02:55:55.409089Z"
    },
    "scrolled": true
   },
   "outputs": [
    {
     "name": "stdout",
     "output_type": "stream",
     "text": [
      "Fitting 10 folds for each of 66 candidates, totalling 660 fits\n"
     ]
    },
    {
     "name": "stderr",
     "output_type": "stream",
     "text": [
      "[Parallel(n_jobs=4)]: Done  42 tasks      | elapsed:    2.2s\n",
      "[Parallel(n_jobs=4)]: Done 192 tasks      | elapsed:   11.3s\n",
      "[Parallel(n_jobs=4)]: Done 442 tasks      | elapsed:   28.0s\n",
      "[Parallel(n_jobs=4)]: Done 660 out of 660 | elapsed:  1.2min finished\n"
     ]
    },
    {
     "name": "stdout",
     "output_type": "stream",
     "text": [
      "{'C': 1000, 'cache_size': 200, 'class_weight': None, 'coef0': 0.0, 'decision_function_shape': 'ovr', 'degree': 3, 'gamma': 0.001, 'kernel': 'rbf', 'max_iter': -1, 'probability': True, 'random_state': None, 'shrinking': True, 'tol': 0.001, 'verbose': False}\n"
     ]
    },
    {
     "data": {
      "text/plain": [
       "0.8305274971941639"
      ]
     },
     "execution_count": 178,
     "metadata": {},
     "output_type": "execute_result"
    }
   ],
   "source": [
    "### SVC classifier\n",
    "SVMC = SVC(probability=True)\n",
    "\n",
    "Cs = [0.001, 0.01, 0.1, 1, 10, 50, 100,200,300, 1000, 3000]\n",
    "gammas = [0.00001, 0.0001, 0.001, 0.01, 0.1, 1 ]\n",
    "    \n",
    "svc_param_grid = {'kernel': ['rbf'], \n",
    "                  'gamma': gammas,\n",
    "                  'C': Cs}\n",
    "\n",
    "gsSVMC = GridSearchCV(SVMC,param_grid = svc_param_grid, cv=kfold, scoring=\"accuracy\", n_jobs= 4, verbose = 1)\n",
    "\n",
    "gsSVMC.fit(X_train,Y_train)\n",
    "\n",
    "SVMC_best = gsSVMC.best_estimator_\n",
    "\n",
    "print(SVMC_best.get_params())\n",
    "\n",
    "\n",
    "# Best score\n",
    "gsSVMC.best_score_"
   ]
  },
  {
   "cell_type": "code",
   "execution_count": 170,
   "metadata": {
    "ExecuteTime": {
     "end_time": "2018-06-26T01:47:59.764442Z",
     "start_time": "2018-06-26T01:26:21.667270Z"
    }
   },
   "outputs": [
    {
     "name": "stdout",
     "output_type": "stream",
     "text": [
      "Fitting 10 folds for each of 3125 candidates, totalling 31250 fits\n"
     ]
    },
    {
     "name": "stderr",
     "output_type": "stream",
     "text": [
      "[Parallel(n_jobs=4)]: Done 144 tasks      | elapsed:    2.3s\n",
      "[Parallel(n_jobs=4)]: Done 744 tasks      | elapsed:   19.4s\n",
      "[Parallel(n_jobs=4)]: Done 1744 tasks      | elapsed:   42.6s\n",
      "[Parallel(n_jobs=4)]: Done 3144 tasks      | elapsed:  1.2min\n",
      "[Parallel(n_jobs=4)]: Done 4944 tasks      | elapsed:  1.9min\n",
      "[Parallel(n_jobs=4)]: Done 7144 tasks      | elapsed:  2.7min\n",
      "[Parallel(n_jobs=4)]: Done 9744 tasks      | elapsed:  3.7min\n",
      "[Parallel(n_jobs=4)]: Done 12744 tasks      | elapsed:  5.0min\n",
      "[Parallel(n_jobs=4)]: Done 16144 tasks      | elapsed:  6.5min\n",
      "[Parallel(n_jobs=4)]: Done 19068 tasks      | elapsed: 12.4min\n",
      "[Parallel(n_jobs=4)]: Done 22620 tasks      | elapsed: 14.8min\n",
      "[Parallel(n_jobs=4)]: Done 25726 tasks      | elapsed: 16.5min\n",
      "[Parallel(n_jobs=4)]: Done 28226 tasks      | elapsed: 18.7min\n",
      "[Parallel(n_jobs=4)]: Done 30163 tasks      | elapsed: 20.7min\n",
      "[Parallel(n_jobs=4)]: Done 31243 out of 31250 | elapsed: 21.6min remaining:    0.3s\n",
      "[Parallel(n_jobs=4)]: Done 31250 out of 31250 | elapsed: 21.6min finished\n"
     ]
    },
    {
     "name": "stdout",
     "output_type": "stream",
     "text": [
      "{'base_score': 0.5, 'booster': 'gbtree', 'colsample_bylevel': 1, 'colsample_bytree': 0.625, 'gamma': 0.5, 'learning_rate': 0.1, 'max_delta_step': 0, 'max_depth': 4, 'min_child_weight': 3.25, 'missing': None, 'n_estimators': 100, 'n_jobs': 1, 'nthread': None, 'objective': 'binary:logistic', 'random_state': 0, 'reg_alpha': 0, 'reg_lambda': 1, 'scale_pos_weight': 1, 'seed': None, 'silent': True, 'subsample': 0.5}\n"
     ]
    },
    {
     "data": {
      "text/plain": [
       "0.8462401795735129"
      ]
     },
     "execution_count": 170,
     "metadata": {},
     "output_type": "execute_result"
    }
   ],
   "source": [
    "### XGB classifier\n",
    "\n",
    "XGB = XGBClassifier()\n",
    "\n",
    "\n",
    "\n",
    "max_depth = [1,2,4,8,10]\n",
    "min_child_weight = np.linspace(1, 10, 5, endpoint=True) \n",
    "\n",
    "gamma = np.linspace(0.5, 5, 5, endpoint=True)\n",
    "subsample = np.linspace(0.5, 1, 5, endpoint=True)\n",
    "colsample_bytree = np.linspace(0.5, 1, 5, endpoint=True)\n",
    "\n",
    "XGB_param_grid = {\n",
    "        'min_child_weight': min_child_weight,\n",
    "        'gamma': gamma,\n",
    "        'subsample': subsample,\n",
    "        'colsample_bytree': colsample_bytree,\n",
    "        'max_depth': max_depth\n",
    "        }\n",
    "\n",
    "\n",
    "gsXGB = GridSearchCV(estimator = XGB, \n",
    "                    param_grid = XGB_param_grid, cv=kfold, scoring=\"accuracy\", n_jobs= 4, verbose = 1)\n",
    "\n",
    "# target = 'AntAktAvtBank'\n",
    "# predictors = [x for x in dtrain.columns if x not in [target, ID_col]]\n",
    "# gsearch1.fit(dtrain[predictors],dtrain[target])\n",
    "# gsearch1.grid_scores_, gsearch1.best_params_, gsearch1.best_score_\n",
    "\n",
    "gsXGB.fit(X_train,Y_train)\n",
    "\n",
    "XGB_best = gsXGB.best_estimator_\n",
    "print(XGB_best.get_params())\n",
    "\n",
    "# Best score\n",
    "gsXGB.best_score_"
   ]
  },
  {
   "cell_type": "markdown",
   "metadata": {},
   "source": [
    "## Ensemble Modeling "
   ]
  },
  {
   "cell_type": "code",
   "execution_count": 234,
   "metadata": {
    "ExecuteTime": {
     "end_time": "2018-07-03T23:26:15.024940Z",
     "start_time": "2018-07-03T23:26:14.733696Z"
    },
    "scrolled": true
   },
   "outputs": [
    {
     "data": {
      "image/png": "[encoded data removed]",
      "text/plain": [
       "<matplotlib.figure.Figure at 0x10edcd550>"
      ]
     },
     "metadata": {},
     "output_type": "display_data"
    }
   ],
   "source": [
    "test_Survived_LR = pd.Series(LR_best.predict(X_test), name=\"LR\")\n",
    "test_Survived_RFC = pd.Series(RFC_best.predict(X_test), name=\"RFC\")\n",
    "test_Survived_GBC = pd.Series(GBC_best.predict(X_test), name=\"GBC\")\n",
    "test_Survived_SVM = pd.Series(SVMC_best.predict(X_test), name=\"SVM\")\n",
    "test_Survived_XGB = pd.Series(XGB_best.predict(X_test), name=\"XGB\")\n",
    "\n",
    "\n",
    "# Concatenate all classifier results\n",
    "ensemble_results = pd.concat([test_Survived_LR,test_Survived_GBC,test_Survived_SVM, test_Survived_XGB, test_Survived_RFC],axis=1)\n",
    "\n",
    "\n",
    "g= sns.heatmap(ensemble_results.corr(),annot=True)"
   ]
  },
  {
   "cell_type": "code",
   "execution_count": 197,
   "metadata": {
    "ExecuteTime": {
     "end_time": "2018-06-26T03:18:05.798643Z",
     "start_time": "2018-06-26T03:18:05.787985Z"
    },
    "scrolled": true
   },
   "outputs": [
    {
     "name": "stdout",
     "output_type": "stream",
     "text": [
      "test score LR: 0.8338945005611672\n",
      "test score RFC: 0.8395061728395061\n",
      "test score GBC: 0.8451178451178452\n",
      "test score SVMC: 0.8305274971941639\n",
      "test score XGB: 0.8462401795735129\n",
      "test score ADA: 0.8282828282828283\n"
     ]
    }
   ],
   "source": [
    "print('test score LR:', gsLR.best_score_)\n",
    "print('test score RFC:', gsRFC.best_score_)\n",
    "print('test score GBC:', gsGBC.best_score_)\n",
    "print('test score SVMC:', gsSVMC.best_score_)\n",
    "print('test score XGB:', gsXGB.best_score_)\n",
    "print('test score ADA:', gsadaDTC.best_score_)"
   ]
  },
  {
   "cell_type": "markdown",
   "metadata": {},
   "source": [
    "The classifier are quiet correlated. This is a good sign! However we observe some differences between the 5 classifiers. This is good for you because we can leverage the use of a voting system to improve our prediction."
   ]
  },
  {
   "cell_type": "code",
   "execution_count": 191,
   "metadata": {
    "ExecuteTime": {
     "end_time": "2018-06-26T03:04:38.147687Z",
     "start_time": "2018-06-26T03:04:36.796723Z"
    }
   },
   "outputs": [],
   "source": [
    "#here I use the soft rule as voting rule because it produced a better score on Kaggle rather than the hard rule. \n",
    "\n",
    "votingC = VotingClassifier(estimators=[('LR', LR_best), \n",
    "('GBC', GBC_best), ('SVM',SVMC_best), ('XGB',XGB_best), (\"RandomForest\",RFC_best)], voting='soft', n_jobs=4)\n",
    "\n",
    "votingC = votingC.fit(X_train, Y_train)"
   ]
  },
  {
   "cell_type": "markdown",
   "metadata": {},
   "source": [
    "# Submission"
   ]
  },
  {
   "cell_type": "code",
   "execution_count": 223,
   "metadata": {
    "ExecuteTime": {
     "end_time": "2018-06-26T03:24:50.058338Z",
     "start_time": "2018-06-26T03:24:50.046535Z"
    }
   },
   "outputs": [],
   "source": [
    "test_Survived = pd.Series(votingC.predict(X_test), name=\"Survived\")"
   ]
  },
  {
   "cell_type": "code",
   "execution_count": 224,
   "metadata": {
    "ExecuteTime": {
     "end_time": "2018-06-26T03:24:50.736240Z",
     "start_time": "2018-06-26T03:24:50.710531Z"
    }
   },
   "outputs": [
    {
     "data": {
      "text/html": [
       "<div>\n",
       "<style scoped>\n",
       "    .dataframe tbody tr th:only-of-type {\n",
       "        vertical-align: middle;\n",
       "    }\n",
       "\n",
       "    .dataframe tbody tr th {\n",
       "        vertical-align: top;\n",
       "    }\n",
       "\n",
       "    .dataframe thead th {\n",
       "        text-align: right;\n",
       "    }\n",
       "</style>\n",
       "<table border=\"1\" class=\"dataframe\">\n",
       "  <thead>\n",
       "    <tr style=\"text-align: right;\">\n",
       "      <th></th>\n",
       "      <th>PassengerId</th>\n",
       "      <th>Survived</th>\n",
       "    </tr>\n",
       "  </thead>\n",
       "  <tbody>\n",
       "    <tr>\n",
       "      <th>0</th>\n",
       "      <td>892</td>\n",
       "      <td>0</td>\n",
       "    </tr>\n",
       "    <tr>\n",
       "      <th>1</th>\n",
       "      <td>893</td>\n",
       "      <td>1</td>\n",
       "    </tr>\n",
       "    <tr>\n",
       "      <th>2</th>\n",
       "      <td>894</td>\n",
       "      <td>0</td>\n",
       "    </tr>\n",
       "    <tr>\n",
       "      <th>3</th>\n",
       "      <td>895</td>\n",
       "      <td>0</td>\n",
       "    </tr>\n",
       "    <tr>\n",
       "      <th>4</th>\n",
       "      <td>896</td>\n",
       "      <td>1</td>\n",
       "    </tr>\n",
       "  </tbody>\n",
       "</table>\n",
       "</div>"
      ],
      "text/plain": [
       "   PassengerId  Survived\n",
       "0          892         0\n",
       "1          893         1\n",
       "2          894         0\n",
       "3          895         0\n",
       "4          896         1"
      ]
     },
     "execution_count": 224,
     "metadata": {},
     "output_type": "execute_result"
    }
   ],
   "source": [
    "\n",
    "\n",
    "ids = pd.read_csv('./data/'+ 'test.csv')['PassengerId']\n",
    "\n",
    "predictions = votingC.predict(X_test)\n",
    "\n",
    "\n",
    "output = pd.DataFrame({ 'PassengerId' : ids, 'Survived': predictions })\n",
    "output.to_csv('titanic-predictions.csv', index = False)\n",
    "output.head()"
   ]
  },
  {
   "cell_type": "code",
   "execution_count": null,
   "metadata": {},
   "outputs": [],
   "source": []
  },
  {
   "cell_type": "code",
   "execution_count": null,
   "metadata": {},
   "outputs": [],
   "source": []
  },
  {
   "cell_type": "code",
   "execution_count": null,
   "metadata": {},
   "outputs": [],
   "source": []
  },
  {
   "cell_type": "code",
   "execution_count": null,
   "metadata": {},
   "outputs": [],
   "source": []
  },
  {
   "cell_type": "code",
   "execution_count": null,
   "metadata": {},
   "outputs": [],
   "source": []
  },
  {
   "cell_type": "code",
   "execution_count": null,
   "metadata": {},
   "outputs": [],
   "source": []
  },
  {
   "cell_type": "code",
   "execution_count": null,
   "metadata": {},
   "outputs": [],
   "source": []
  },
  {
   "cell_type": "code",
   "execution_count": null,
   "metadata": {},
   "outputs": [],
   "source": []
  },
  {
   "cell_type": "code",
   "execution_count": null,
   "metadata": {
    "ExecuteTime": {
     "end_time": "2018-06-26T01:48:20.032176Z",
     "start_time": "2018-06-26T00:04:13.730Z"
    }
   },
   "outputs": [],
   "source": [
    "g = sns.factorplot(y=\"Survived\",x=\"Cabin\",data=dataset,kind=\"bar\",order=['A','B','C','D','E','F','G','T','X'])\n",
    "g = g.set_ylabels(\"Survival Probability\")"
   ]
  },
  {
   "cell_type": "markdown",
   "metadata": {},
   "source": [
    "- k fold instead \n",
    "- ajouter cabin et ticket\n",
    "- vizu\n",
    "- automatiser les tests des models: https://www.kaggle.com/yassineghouzam/titanic-top-4-with-ensemble-modeling"
   ]
  },
  {
   "cell_type": "code",
   "execution_count": null,
   "metadata": {
    "ExecuteTime": {
     "end_time": "2018-06-26T01:48:20.034134Z",
     "start_time": "2018-06-26T00:04:13.740Z"
    }
   },
   "outputs": [],
   "source": [
    "# integrer HP opti\n",
    "#https://www.kaggle.com/ldfreeman3/a-data-science-framework-to-achieve-99-accuracy"
   ]
  }
 ],
 "metadata": {
  "kernelspec": {
   "display_name": "Python 3",
   "language": "python",
   "name": "python3"
  },
  "language_info": {
   "codemirror_mode": {
    "name": "ipython",
    "version": 3
   },
   "file_extension": ".py",
   "mimetype": "text/x-python",
   "name": "python",
   "nbconvert_exporter": "python",
   "pygments_lexer": "ipython3",
   "version": "3.6.3"
  },
  "toc": {
   "nav_menu": {},
   "number_sections": true,
   "sideBar": false,
   "skip_h1_title": false,
   "title_cell": "Table of Contents",
   "title_sidebar": "Contents",
   "toc_cell": false,
   "toc_position": {
    "height": "639px",
    "left": "1081px",
    "top": "154.961px",
    "width": "300px"
   },
   "toc_section_display": true,
   "toc_window_display": true
  },
  "varInspector": {
   "cols": {
    "lenName": 16,
    "lenType": 16,
    "lenVar": 40
   },
   "kernels_config": {
    "python": {
     "delete_cmd_postfix": "",
     "delete_cmd_prefix": "del ",
     "library": "var_list.py",
     "varRefreshCmd": "print(var_dic_list())"
    },
    "r": {
     "delete_cmd_postfix": ") ",
     "delete_cmd_prefix": "rm(",
     "library": "var_list.r",
     "varRefreshCmd": "cat(var_dic_list()) "
    }
   },
   "types_to_exclude": [
    "module",
    "function",
    "builtin_function_or_method",
    "instance",
    "_Feature"
   ],
   "window_display": false
  }
 },
 "nbformat": 4,
 "nbformat_minor": 2
}
